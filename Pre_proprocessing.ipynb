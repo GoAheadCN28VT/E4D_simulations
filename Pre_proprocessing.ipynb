{
 "cells": [
  {
   "cell_type": "code",
   "execution_count": 22,
   "metadata": {},
   "outputs": [],
   "source": [
    "#Import libraries\n",
    "\n",
    "import os\n",
    "import ipywidgets as widgets\n",
    "import shutil"
   ]
  },
  {
   "cell_type": "code",
   "execution_count": 23,
   "metadata": {},
   "outputs": [
    {
     "name": "stdout",
     "output_type": "stream",
     "text": [
      "Please select one iteration:\n"
     ]
    },
    {
     "data": {
      "application/vnd.jupyter.widget-view+json": {
       "model_id": "de4768cb2ca84c67b60033c33be125b3",
       "version_major": 2,
       "version_minor": 0
      },
      "text/plain": [
       "RadioButtons(description='Iteration:', options=('Iter1_Beta03_Pflotran_Output', 'DataAssimilation', 'Iter1_Bet…"
      ]
     },
     "metadata": {},
     "output_type": "display_data"
    }
   ],
   "source": [
    "# Define data processing path to make files\n",
    "data_path_main = '/global/cscratch1/sd/vthw28/'\n",
    "\n",
    "# Define input files path\n",
    "input_file_path = '/global/cscratch1/sd/vthw28/Input_Files_E4D/'\n",
    "\n",
    "# Define the iteration path\n",
    "iter_path_source = '/global/project/projectdirs/m1800/hydrogeophysics/'\n",
    "\n",
    "# Folders inside the path\n",
    "iter_name = os.listdir(iter_path_source)\n",
    "\n",
    "# Select one iteration folder\n",
    "iter_name_input = widgets.RadioButtons(\n",
    "    options= iter_name,\n",
    "    description='Iteration:',\n",
    "    disabled=False\n",
    ")\n",
    "\n",
    "print('Please select one iteration:')\n",
    "display(iter_name_input)"
   ]
  },
  {
   "cell_type": "code",
   "execution_count": 24,
   "metadata": {},
   "outputs": [
    {
     "name": "stdout",
     "output_type": "stream",
     "text": [
      "The selected iteration is \u001b[0;30;42mIter1_Beta03_Pflotran_Output\u001b[0m\n",
      "Making folder named \u001b[0;30;42mIter1\u001b[0m under the path \u001b[0;30;42m/global/cscratch1/sd/vthw28/\u001b[0m\n",
      "The directory named \u001b[0;30;41m/global/cscratch1/sd/vthw28/Iter1\u001b[0m has existed.\n"
     ]
    }
   ],
   "source": [
    "# Define the realization path based on selection\n",
    "real_path_ext = iter_name_input.value\n",
    "print('The selected iteration is','\\x1b[0;30;42m'+real_path_ext+'\\x1b[0m')\n",
    "\n",
    "if len(real_path_ext) == 28:\n",
    "    iter_folder_name = real_path_ext[0:5]\n",
    "\n",
    "if len(real_path_ext) == 29:\n",
    "    iter_folder_name = real_path_ext[0:6]\n",
    "\n",
    "if len(real_path_ext) == 30:\n",
    "    iter_folder_name = real_path_ext[0:7]\n",
    "print('Making folder named','\\x1b[0;30;42m'+iter_folder_name+'\\x1b[0m','under the path','\\x1b[0;30;42m'+data_path_main+'\\x1b[0m')\n",
    "\n",
    "data_path_iter = data_path_main+iter_folder_name\n",
    "iter_name_check = os.listdir(data_path_main)\n",
    "\n",
    "if iter_folder_name in iter_name_check:\n",
    "    print('The directory named', '\\x1b[0;30;41m'+data_path_iter+'\\x1b[0m','has existed.')\n",
    "else:\n",
    "    os.mkdir(data_path_iter)\n",
    "    print ('Successfully created the directory', '\\x1b[0;30;42m'+data_path_iter+'\\x1b[0m')"
   ]
  },
  {
   "cell_type": "code",
   "execution_count": 25,
   "metadata": {
    "scrolled": true
   },
   "outputs": [
    {
     "name": "stdout",
     "output_type": "stream",
     "text": [
      "For the selected \u001b[0;30;42mIter1_Beta03_Pflotran_Output\u001b[0m , there are \u001b[0;30;42m202\u001b[0m realization files.\n",
      "There would be \u001b[0;30;42m200\u001b[0m folders created under the path \u001b[0;30;42m/global/cscratch1/sd/vthw28/Iter1/\u001b[0m\n",
      "Making directory and copying pflotran simulation files:\n",
      "The directory named \u001b[0;30;41mIter1-R1\u001b[0m has existed.\n",
      "The directory named \u001b[0;30;41mIter1-R10\u001b[0m has existed.\n",
      "The directory named \u001b[0;30;41mIter1-R100\u001b[0m has existed.\n",
      "The directory named \u001b[0;30;41mIter1-R101\u001b[0m has existed.\n",
      "The directory named \u001b[0;30;41mIter1-R102\u001b[0m has existed.\n",
      "The directory named \u001b[0;30;41mIter1-R103\u001b[0m has existed.\n",
      "The directory named \u001b[0;30;41mIter1-R104\u001b[0m has existed.\n",
      "The directory named \u001b[0;30;41mIter1-R105\u001b[0m has existed.\n",
      "The directory named \u001b[0;30;41mIter1-R106\u001b[0m has existed.\n",
      "The directory named \u001b[0;30;41mIter1-R107\u001b[0m has existed.\n",
      "The directory named \u001b[0;30;41mIter1-R108\u001b[0m has existed.\n",
      "The directory named \u001b[0;30;41mIter1-R109\u001b[0m has existed.\n",
      "The directory named \u001b[0;30;41mIter1-R11\u001b[0m has existed.\n",
      "The directory named \u001b[0;30;41mIter1-R110\u001b[0m has existed.\n",
      "The directory named \u001b[0;30;41mIter1-R111\u001b[0m has existed.\n",
      "The directory named \u001b[0;30;41mIter1-R112\u001b[0m has existed.\n",
      "The directory named \u001b[0;30;41mIter1-R113\u001b[0m has existed.\n",
      "The directory named \u001b[0;30;41mIter1-R114\u001b[0m has existed.\n",
      "The directory named \u001b[0;30;41mIter1-R115\u001b[0m has existed.\n",
      "The directory named \u001b[0;30;41mIter1-R116\u001b[0m has existed.\n",
      "The directory named \u001b[0;30;41mIter1-R117\u001b[0m has existed.\n",
      "The directory named \u001b[0;30;41mIter1-R118\u001b[0m has existed.\n",
      "The directory named \u001b[0;30;41mIter1-R119\u001b[0m has existed.\n",
      "The directory named \u001b[0;30;41mIter1-R12\u001b[0m has existed.\n",
      "The directory named \u001b[0;30;41mIter1-R120\u001b[0m has existed.\n",
      "The directory named \u001b[0;30;41mIter1-R121\u001b[0m has existed.\n",
      "The directory named \u001b[0;30;41mIter1-R122\u001b[0m has existed.\n",
      "The directory named \u001b[0;30;41mIter1-R123\u001b[0m has existed.\n",
      "The directory named \u001b[0;30;41mIter1-R124\u001b[0m has existed.\n",
      "The directory named \u001b[0;30;41mIter1-R125\u001b[0m has existed.\n",
      "The directory named \u001b[0;30;41mIter1-R126\u001b[0m has existed.\n",
      "The directory named \u001b[0;30;41mIter1-R127\u001b[0m has existed.\n",
      "The directory named \u001b[0;30;41mIter1-R128\u001b[0m has existed.\n",
      "The directory named \u001b[0;30;41mIter1-R129\u001b[0m has existed.\n",
      "The directory named \u001b[0;30;41mIter1-R13\u001b[0m has existed.\n",
      "The directory named \u001b[0;30;41mIter1-R130\u001b[0m has existed.\n",
      "The directory named \u001b[0;30;41mIter1-R131\u001b[0m has existed.\n",
      "The directory named \u001b[0;30;41mIter1-R132\u001b[0m has existed.\n",
      "The directory named \u001b[0;30;41mIter1-R133\u001b[0m has existed.\n",
      "The directory named \u001b[0;30;41mIter1-R134\u001b[0m has existed.\n",
      "The directory named \u001b[0;30;41mIter1-R135\u001b[0m has existed.\n",
      "The directory named \u001b[0;30;41mIter1-R136\u001b[0m has existed.\n",
      "The directory named \u001b[0;30;41mIter1-R137\u001b[0m has existed.\n",
      "The directory named \u001b[0;30;41mIter1-R138\u001b[0m has existed.\n",
      "The directory named \u001b[0;30;41mIter1-R139\u001b[0m has existed.\n",
      "The directory named \u001b[0;30;41mIter1-R14\u001b[0m has existed.\n",
      "The directory named \u001b[0;30;41mIter1-R140\u001b[0m has existed.\n",
      "The directory named \u001b[0;30;41mIter1-R141\u001b[0m has existed.\n",
      "The directory named \u001b[0;30;41mIter1-R142\u001b[0m has existed.\n",
      "The directory named \u001b[0;30;41mIter1-R143\u001b[0m has existed.\n",
      "The directory named \u001b[0;30;41mIter1-R144\u001b[0m has existed.\n",
      "The directory named \u001b[0;30;41mIter1-R145\u001b[0m has existed.\n",
      "The directory named \u001b[0;30;41mIter1-R146\u001b[0m has existed.\n",
      "The directory named \u001b[0;30;41mIter1-R147\u001b[0m has existed.\n",
      "The directory named \u001b[0;30;41mIter1-R148\u001b[0m has existed.\n",
      "The directory named \u001b[0;30;41mIter1-R149\u001b[0m has existed.\n",
      "The directory named \u001b[0;30;41mIter1-R15\u001b[0m has existed.\n",
      "The directory named \u001b[0;30;41mIter1-R150\u001b[0m has existed.\n",
      "The directory named \u001b[0;30;41mIter1-R151\u001b[0m has existed.\n",
      "The directory named \u001b[0;30;41mIter1-R152\u001b[0m has existed.\n",
      "The directory named \u001b[0;30;41mIter1-R153\u001b[0m has existed.\n",
      "The directory named \u001b[0;30;41mIter1-R154\u001b[0m has existed.\n",
      "The directory named \u001b[0;30;41mIter1-R155\u001b[0m has existed.\n",
      "The directory named \u001b[0;30;41mIter1-R156\u001b[0m has existed.\n",
      "The directory named \u001b[0;30;41mIter1-R157\u001b[0m has existed.\n",
      "The directory named \u001b[0;30;41mIter1-R158\u001b[0m has existed.\n",
      "The directory named \u001b[0;30;41mIter1-R159\u001b[0m has existed.\n",
      "The directory named \u001b[0;30;41mIter1-R16\u001b[0m has existed.\n",
      "The directory named \u001b[0;30;41mIter1-R160\u001b[0m has existed.\n",
      "The directory named \u001b[0;30;41mIter1-R161\u001b[0m has existed.\n",
      "The directory named \u001b[0;30;41mIter1-R162\u001b[0m has existed.\n",
      "The directory named \u001b[0;30;41mIter1-R163\u001b[0m has existed.\n",
      "The directory named \u001b[0;30;41mIter1-R164\u001b[0m has existed.\n",
      "The directory named \u001b[0;30;41mIter1-R165\u001b[0m has existed.\n",
      "The directory named \u001b[0;30;41mIter1-R166\u001b[0m has existed.\n",
      "The directory named \u001b[0;30;41mIter1-R167\u001b[0m has existed.\n",
      "The directory named \u001b[0;30;41mIter1-R168\u001b[0m has existed.\n",
      "The directory named \u001b[0;30;41mIter1-R169\u001b[0m has existed.\n",
      "The directory named \u001b[0;30;41mIter1-R17\u001b[0m has existed.\n",
      "The directory named \u001b[0;30;41mIter1-R170\u001b[0m has existed.\n",
      "The directory named \u001b[0;30;41mIter1-R171\u001b[0m has existed.\n",
      "The directory named \u001b[0;30;41mIter1-R172\u001b[0m has existed.\n",
      "The directory named \u001b[0;30;41mIter1-R173\u001b[0m has existed.\n",
      "The directory named \u001b[0;30;41mIter1-R174\u001b[0m has existed.\n",
      "The directory named \u001b[0;30;41mIter1-R175\u001b[0m has existed.\n",
      "The directory named \u001b[0;30;41mIter1-R176\u001b[0m has existed.\n",
      "The directory named \u001b[0;30;41mIter1-R177\u001b[0m has existed.\n",
      "The directory named \u001b[0;30;41mIter1-R178\u001b[0m has existed.\n",
      "The directory named \u001b[0;30;41mIter1-R179\u001b[0m has existed.\n",
      "The directory named \u001b[0;30;41mIter1-R18\u001b[0m has existed.\n",
      "The directory named \u001b[0;30;41mIter1-R180\u001b[0m has existed.\n",
      "The directory named \u001b[0;30;41mIter1-R181\u001b[0m has existed.\n",
      "The directory named \u001b[0;30;41mIter1-R182\u001b[0m has existed.\n",
      "The directory named \u001b[0;30;41mIter1-R183\u001b[0m has existed.\n",
      "The directory named \u001b[0;30;41mIter1-R184\u001b[0m has existed.\n",
      "The directory named \u001b[0;30;41mIter1-R185\u001b[0m has existed.\n",
      "The directory named \u001b[0;30;41mIter1-R186\u001b[0m has existed.\n",
      "The directory named \u001b[0;30;41mIter1-R187\u001b[0m has existed.\n",
      "The directory named \u001b[0;30;41mIter1-R188\u001b[0m has existed.\n",
      "The directory named \u001b[0;30;41mIter1-R189\u001b[0m has existed.\n",
      "The directory named \u001b[0;30;41mIter1-R19\u001b[0m has existed.\n",
      "The directory named \u001b[0;30;41mIter1-R190\u001b[0m has existed.\n",
      "The directory named \u001b[0;30;41mIter1-R191\u001b[0m has existed.\n",
      "The directory named \u001b[0;30;41mIter1-R192\u001b[0m has existed.\n",
      "The directory named \u001b[0;30;41mIter1-R193\u001b[0m has existed.\n",
      "The directory named \u001b[0;30;41mIter1-R194\u001b[0m has existed.\n",
      "The directory named \u001b[0;30;41mIter1-R195\u001b[0m has existed.\n",
      "The directory named \u001b[0;30;41mIter1-R196\u001b[0m has existed.\n",
      "The directory named \u001b[0;30;41mIter1-R197\u001b[0m has existed.\n",
      "The directory named \u001b[0;30;41mIter1-R198\u001b[0m has existed.\n",
      "The directory named \u001b[0;30;41mIter1-R199\u001b[0m has existed.\n",
      "The directory named \u001b[0;30;41mIter1-R2\u001b[0m has existed.\n",
      "The directory named \u001b[0;30;41mIter1-R20\u001b[0m has existed.\n",
      "The directory named \u001b[0;30;41mIter1-R200\u001b[0m has existed.\n",
      "The directory named \u001b[0;30;41mIter1-R21\u001b[0m has existed.\n",
      "The directory named \u001b[0;30;41mIter1-R22\u001b[0m has existed.\n",
      "The directory named \u001b[0;30;41mIter1-R23\u001b[0m has existed.\n",
      "The directory named \u001b[0;30;41mIter1-R24\u001b[0m has existed.\n",
      "The directory named \u001b[0;30;41mIter1-R25\u001b[0m has existed.\n",
      "The directory named \u001b[0;30;41mIter1-R26\u001b[0m has existed.\n",
      "The directory named \u001b[0;30;41mIter1-R27\u001b[0m has existed.\n",
      "The directory named \u001b[0;30;41mIter1-R28\u001b[0m has existed.\n",
      "The directory named \u001b[0;30;41mIter1-R29\u001b[0m has existed.\n",
      "The directory named \u001b[0;30;41mIter1-R3\u001b[0m has existed.\n",
      "The directory named \u001b[0;30;41mIter1-R30\u001b[0m has existed.\n",
      "The directory named \u001b[0;30;41mIter1-R31\u001b[0m has existed.\n",
      "The directory named \u001b[0;30;41mIter1-R32\u001b[0m has existed.\n",
      "The directory named \u001b[0;30;41mIter1-R33\u001b[0m has existed.\n",
      "The directory named \u001b[0;30;41mIter1-R34\u001b[0m has existed.\n",
      "The directory named \u001b[0;30;41mIter1-R35\u001b[0m has existed.\n",
      "The directory named \u001b[0;30;41mIter1-R36\u001b[0m has existed.\n",
      "The directory named \u001b[0;30;41mIter1-R37\u001b[0m has existed.\n",
      "The directory named \u001b[0;30;41mIter1-R38\u001b[0m has existed.\n",
      "The directory named \u001b[0;30;41mIter1-R39\u001b[0m has existed.\n",
      "The directory named \u001b[0;30;41mIter1-R4\u001b[0m has existed.\n",
      "The directory named \u001b[0;30;41mIter1-R40\u001b[0m has existed.\n",
      "The directory named \u001b[0;30;41mIter1-R41\u001b[0m has existed.\n",
      "The directory named \u001b[0;30;41mIter1-R42\u001b[0m has existed.\n",
      "The directory named \u001b[0;30;41mIter1-R43\u001b[0m has existed.\n",
      "The directory named \u001b[0;30;41mIter1-R44\u001b[0m has existed.\n",
      "The directory named \u001b[0;30;41mIter1-R45\u001b[0m has existed.\n",
      "The directory named \u001b[0;30;41mIter1-R46\u001b[0m has existed.\n",
      "The directory named \u001b[0;30;41mIter1-R47\u001b[0m has existed.\n",
      "The directory named \u001b[0;30;41mIter1-R48\u001b[0m has existed.\n",
      "The directory named \u001b[0;30;41mIter1-R49\u001b[0m has existed.\n",
      "The directory named \u001b[0;30;41mIter1-R5\u001b[0m has existed.\n",
      "The directory named \u001b[0;30;41mIter1-R50\u001b[0m has existed.\n",
      "The directory named \u001b[0;30;41mIter1-R51\u001b[0m has existed.\n",
      "The directory named \u001b[0;30;41mIter1-R52\u001b[0m has existed.\n",
      "The directory named \u001b[0;30;41mIter1-R53\u001b[0m has existed.\n",
      "The directory named \u001b[0;30;41mIter1-R54\u001b[0m has existed.\n",
      "The directory named \u001b[0;30;41mIter1-R55\u001b[0m has existed.\n",
      "The directory named \u001b[0;30;41mIter1-R56\u001b[0m has existed.\n",
      "The directory named \u001b[0;30;41mIter1-R57\u001b[0m has existed.\n",
      "The directory named \u001b[0;30;41mIter1-R58\u001b[0m has existed.\n",
      "The directory named \u001b[0;30;41mIter1-R59\u001b[0m has existed.\n",
      "The directory named \u001b[0;30;41mIter1-R6\u001b[0m has existed.\n",
      "The directory named \u001b[0;30;41mIter1-R60\u001b[0m has existed.\n",
      "The directory named \u001b[0;30;41mIter1-R61\u001b[0m has existed.\n",
      "The directory named \u001b[0;30;41mIter1-R62\u001b[0m has existed.\n",
      "The directory named \u001b[0;30;41mIter1-R63\u001b[0m has existed.\n",
      "The directory named \u001b[0;30;41mIter1-R64\u001b[0m has existed.\n",
      "The directory named \u001b[0;30;41mIter1-R65\u001b[0m has existed.\n",
      "The directory named \u001b[0;30;41mIter1-R66\u001b[0m has existed.\n",
      "The directory named \u001b[0;30;41mIter1-R67\u001b[0m has existed.\n",
      "The directory named \u001b[0;30;41mIter1-R68\u001b[0m has existed.\n",
      "The directory named \u001b[0;30;41mIter1-R69\u001b[0m has existed.\n",
      "The directory named \u001b[0;30;41mIter1-R7\u001b[0m has existed.\n",
      "The directory named \u001b[0;30;41mIter1-R70\u001b[0m has existed.\n",
      "The directory named \u001b[0;30;41mIter1-R71\u001b[0m has existed.\n",
      "The directory named \u001b[0;30;41mIter1-R72\u001b[0m has existed.\n",
      "The directory named \u001b[0;30;41mIter1-R73\u001b[0m has existed.\n",
      "The directory named \u001b[0;30;41mIter1-R74\u001b[0m has existed.\n",
      "The directory named \u001b[0;30;41mIter1-R75\u001b[0m has existed.\n",
      "The directory named \u001b[0;30;41mIter1-R76\u001b[0m has existed.\n",
      "The directory named \u001b[0;30;41mIter1-R77\u001b[0m has existed.\n",
      "The directory named \u001b[0;30;41mIter1-R78\u001b[0m has existed.\n",
      "The directory named \u001b[0;30;41mIter1-R79\u001b[0m has existed.\n",
      "The directory named \u001b[0;30;41mIter1-R8\u001b[0m has existed.\n",
      "The directory named \u001b[0;30;41mIter1-R80\u001b[0m has existed.\n",
      "The directory named \u001b[0;30;41mIter1-R81\u001b[0m has existed.\n",
      "The directory named \u001b[0;30;41mIter1-R82\u001b[0m has existed.\n",
      "The directory named \u001b[0;30;41mIter1-R83\u001b[0m has existed.\n",
      "The directory named \u001b[0;30;41mIter1-R84\u001b[0m has existed.\n",
      "The directory named \u001b[0;30;41mIter1-R85\u001b[0m has existed.\n",
      "The directory named \u001b[0;30;41mIter1-R86\u001b[0m has existed.\n",
      "The directory named \u001b[0;30;41mIter1-R87\u001b[0m has existed.\n",
      "The directory named \u001b[0;30;41mIter1-R88\u001b[0m has existed.\n",
      "The directory named \u001b[0;30;41mIter1-R89\u001b[0m has existed.\n",
      "The directory named \u001b[0;30;41mIter1-R9\u001b[0m has existed.\n",
      "The directory named \u001b[0;30;41mIter1-R90\u001b[0m has existed.\n",
      "The directory named \u001b[0;30;41mIter1-R91\u001b[0m has existed.\n",
      "The directory named \u001b[0;30;41mIter1-R92\u001b[0m has existed.\n",
      "The directory named \u001b[0;30;41mIter1-R93\u001b[0m has existed.\n",
      "The directory named \u001b[0;30;41mIter1-R94\u001b[0m has existed.\n",
      "The directory named \u001b[0;30;41mIter1-R95\u001b[0m has existed.\n",
      "The directory named \u001b[0;30;41mIter1-R96\u001b[0m has existed.\n",
      "The directory named \u001b[0;30;41mIter1-R97\u001b[0m has existed.\n",
      "The directory named \u001b[0;30;41mIter1-R98\u001b[0m has existed.\n",
      "The directory named \u001b[0;30;41mIter1-R99\u001b[0m has existed.\n"
     ]
    }
   ],
   "source": [
    "real_path_source = iter_path_source + real_path_ext\n",
    "# Files inside the path with extension '.h5' is the pflotran simulation files. \n",
    "real_file_name = [f for f in os.listdir(real_path_source) if f.endswith('.h5')]\n",
    "real_file_name.sort()\n",
    "real_file_num = len(real_file_name)\n",
    "print('For the selected', '\\x1b[0;30;42m'+real_path_ext+'\\x1b[0m',', there are', '\\x1b[0;30;42m'+str(real_file_num)+'\\x1b[0m','realization files.')\n",
    "\n",
    "real_name_list = []\n",
    "# Check the realization name\n",
    "for i in range(real_file_num):\n",
    "    real_name_len = len(real_file_name[i])\n",
    "    \n",
    "    if real_name_len == 17:\n",
    "        real_name = real_file_name[i][8:10]\n",
    "        real_name_list.append(real_name)\n",
    "        \n",
    "    if real_name_len == 18:\n",
    "        real_name = real_file_name[i][8:11]\n",
    "        real_name_list.append(real_name)\n",
    "        \n",
    "    if real_name_len == 19:\n",
    "        real_name = real_file_name[i][8:12]\n",
    "        real_name_list.append(real_name)\n",
    "\n",
    "real_name_list = list(set(real_name_list))\n",
    "real_name_list.sort()\n",
    "\n",
    "real_name_num = len(real_name_list)\n",
    "data_path_real = data_path_iter+'/'\n",
    "print('There would be','\\x1b[0;30;42m'+str(real_name_num)+'\\x1b[0m','folders created under the path','\\x1b[0;30;42m'+data_path_real+'\\x1b[0m')\n",
    "print('Making directory and copying pflotran simulation files:')\n",
    "real_name_check = os.listdir(data_path_iter)\n",
    "\n",
    "for i in range (real_name_num):\n",
    "    real_name_prefix =  iter_folder_name + '-'+ real_name_list[i]\n",
    "    data_path_real = data_path_iter+'/' +  real_name_prefix\n",
    "    \n",
    "    if real_name_prefix in real_name_check:\n",
    "        print('The directory named', '\\x1b[0;30;41m'+real_name_prefix+'\\x1b[0m','has existed.')\n",
    "    else:\n",
    "        os.mkdir(data_path_real)\n",
    "        print('Successfully created the directory', '\\x1b[0;30;42m'+data_path_real+'\\x1b[0m')"
   ]
  },
  {
   "cell_type": "code",
   "execution_count": 26,
   "metadata": {},
   "outputs": [
    {
     "name": "stdout",
     "output_type": "stream",
     "text": [
      "Select E4D Mesh Files: .1.ele, .1.node, .1.neigh, .1.face, .trn\n"
     ]
    },
    {
     "data": {
      "application/vnd.jupyter.widget-view+json": {
       "model_id": "49dcc7956d7947328963329fdf3706a8",
       "version_major": 2,
       "version_minor": 0
      },
      "text/plain": [
       "RadioButtons(description='Element File:', options=('e4d_mesh.1.ele',), value='e4d_mesh.1.ele')"
      ]
     },
     "metadata": {},
     "output_type": "display_data"
    },
    {
     "data": {
      "application/vnd.jupyter.widget-view+json": {
       "model_id": "df839099e32b4cf8a280bcca5b5c76bf",
       "version_major": 2,
       "version_minor": 0
      },
      "text/plain": [
       "RadioButtons(description='Node File:', options=('e4d_mesh.1.node',), value='e4d_mesh.1.node')"
      ]
     },
     "metadata": {},
     "output_type": "display_data"
    },
    {
     "data": {
      "application/vnd.jupyter.widget-view+json": {
       "model_id": "6f25f1c03070466b9563aab0b0f37da1",
       "version_major": 2,
       "version_minor": 0
      },
      "text/plain": [
       "RadioButtons(description='Face File:', options=('e4d_mesh.1.face',), value='e4d_mesh.1.face')"
      ]
     },
     "metadata": {},
     "output_type": "display_data"
    },
    {
     "data": {
      "application/vnd.jupyter.widget-view+json": {
       "model_id": "63f384c3460c4ba4a4cf7a8810019b7b",
       "version_major": 2,
       "version_minor": 0
      },
      "text/plain": [
       "RadioButtons(description='Neigh File:', options=('e4d_mesh.1.neigh',), value='e4d_mesh.1.neigh')"
      ]
     },
     "metadata": {},
     "output_type": "display_data"
    },
    {
     "data": {
      "application/vnd.jupyter.widget-view+json": {
       "model_id": "7f173010a8ba4f7d95f9c5e9a0ba6804",
       "version_major": 2,
       "version_minor": 0
      },
      "text/plain": [
       "RadioButtons(description='trn File:', options=('e4d_mesh.trn',), value='e4d_mesh.trn')"
      ]
     },
     "metadata": {},
     "output_type": "display_data"
    },
    {
     "name": "stdout",
     "output_type": "stream",
     "text": [
      "Select E4D Visulization File: .exo\n"
     ]
    },
    {
     "data": {
      "application/vnd.jupyter.widget-view+json": {
       "model_id": "aecef837d2a84e79b3e4a793e8b56b9d",
       "version_major": 2,
       "version_minor": 0
      },
      "text/plain": [
       "RadioButtons(description='exo File:', options=('e4d_mesh.exo',), value='e4d_mesh.exo')"
      ]
     },
     "metadata": {},
     "output_type": "display_data"
    },
    {
     "name": "stdout",
     "output_type": "stream",
     "text": [
      "Select Mesh Interpolation Matrix File: _map.bin\n"
     ]
    },
    {
     "data": {
      "application/vnd.jupyter.widget-view+json": {
       "model_id": "2997e8764b0143d69cd105d65c718830",
       "version_major": 2,
       "version_minor": 0
      },
      "text/plain": [
       "RadioButtons(description='map.bin:', options=('e4d_mesh_map.bin',), value='e4d_mesh_map.bin')"
      ]
     },
     "metadata": {},
     "output_type": "display_data"
    },
    {
     "name": "stdout",
     "output_type": "stream",
     "text": [
      "Select Variable Mapping Files: baseline sigma file and petrophysical parameter file.\n"
     ]
    },
    {
     "data": {
      "application/vnd.jupyter.widget-view+json": {
       "model_id": "3271776d31f3447a9861490c61288ac0",
       "version_major": 2,
       "version_minor": 0
      },
      "text/plain": [
       "RadioButtons(description='BC Sigma:', options=('e4d_mesh.sig',), value='e4d_mesh.sig')"
      ]
     },
     "metadata": {},
     "output_type": "display_data"
    },
    {
     "data": {
      "application/vnd.jupyter.widget-view+json": {
       "model_id": "37763140abd946a3b6be8d9110a73c16",
       "version_major": 2,
       "version_minor": 0
      },
      "text/plain": [
       "Text(value='wax_smit.txt', description='Petrophysical', disabled=True)"
      ]
     },
     "metadata": {},
     "output_type": "display_data"
    },
    {
     "name": "stdout",
     "output_type": "stream",
     "text": [
      "Select Jupyter Notebook: .ipynb\n"
     ]
    },
    {
     "data": {
      "application/vnd.jupyter.widget-view+json": {
       "model_id": "aa7df1ac37d44ae3910ca64a9e963d91",
       "version_major": 2,
       "version_minor": 0
      },
      "text/plain": [
       "RadioButtons(description='Notebook:', options=('Forward_Mode.ipynb',), value='Forward_Mode.ipynb')"
      ]
     },
     "metadata": {},
     "output_type": "display_data"
    },
    {
     "name": "stdout",
     "output_type": "stream",
     "text": [
      "Select Mapping Fortran Script: .f90\n"
     ]
    },
    {
     "data": {
      "application/vnd.jupyter.widget-view+json": {
       "model_id": "0710ffd6e0a44e84b59c0e1981fde743",
       "version_major": 2,
       "version_minor": 0
      },
      "text/plain": [
       "RadioButtons(description='Fortran:', options=('modify.f90',), value='modify.f90')"
      ]
     },
     "metadata": {},
     "output_type": "display_data"
    }
   ],
   "source": [
    "# Define input files path\n",
    "input_file_path = '/global/u1/v/vthw28/1/'\n",
    "\n",
    "print('Select E4D Mesh Files: .1.ele, .1.node, .1.neigh, .1.face, .trn')\n",
    "mesh_ele_files = [f for f in os.listdir(input_file_path) if f.endswith('.1.ele')]\n",
    "mesh_node_files = [f for f in os.listdir(input_file_path) if f.endswith('.1.node')]\n",
    "mesh_neigh_files = [f for f in os.listdir(input_file_path) if f.endswith('.1.neigh')]\n",
    "mesh_face_files = [f for f in os.listdir(input_file_path) if f.endswith('.1.face')]\n",
    "mesh_trn_files = [f for f in os.listdir(input_file_path) if f.endswith('.trn')]\n",
    "\n",
    "mesh_ele_name_input = widgets.RadioButtons(\n",
    "    options= mesh_ele_files,\n",
    "    description='Element File:',\n",
    "    disabled=False\n",
    ")\n",
    "mesh_node_name_input = widgets.RadioButtons(\n",
    "    options= mesh_node_files,\n",
    "    description='Node File:',\n",
    "    disabled=False\n",
    ")\n",
    "mesh_face_name_input = widgets.RadioButtons(\n",
    "    options= mesh_face_files,\n",
    "    description='Face File:',\n",
    "    disabled=False\n",
    ")\n",
    "mesh_neigh_name_input = widgets.RadioButtons(\n",
    "    options= mesh_neigh_files,\n",
    "    description='Neigh File:',\n",
    "    disabled=False\n",
    ")\n",
    "mesh_trn_name_input = widgets.RadioButtons(\n",
    "    options= mesh_trn_files,\n",
    "    description='trn File:',\n",
    "    disabled=False\n",
    ")\n",
    "\n",
    "display(mesh_ele_name_input, mesh_node_name_input, mesh_face_name_input, mesh_neigh_name_input, mesh_trn_name_input )\n",
    "\n",
    "print('Select E4D Visulization File: .exo')\n",
    "mesh_exo_files = [f for f in os.listdir(input_file_path) if f.endswith('.exo')]\n",
    "\n",
    "mesh_exo_name_input = widgets.RadioButtons(\n",
    "    options= mesh_exo_files,\n",
    "    description='exo File:',\n",
    "    disabled=False\n",
    ")\n",
    "\n",
    "display(mesh_exo_name_input)\n",
    "\n",
    "print('Select Mesh Interpolation Matrix File: _map.bin')\n",
    "mesh_inter_files = [f for f in os.listdir(input_file_path) if f.endswith('_map.bin')]\n",
    "\n",
    "mesh_inter_input = widgets.RadioButtons(\n",
    "    options= mesh_inter_files,\n",
    "    description='map.bin:',\n",
    "    disabled=False\n",
    ")\n",
    "\n",
    "display(mesh_inter_input)\n",
    "\n",
    "print('Select Variable Mapping Files: baseline sigma file and petrophysical parameter file.')\n",
    "bc_sig_files = [f for f in os.listdir(input_file_path) if f.endswith('.sig')]\n",
    "\n",
    "bc_sig_input = widgets.RadioButtons(\n",
    "    options= bc_sig_files,\n",
    "    description='BC Sigma:',\n",
    "    disabled=False\n",
    ")\n",
    "\n",
    "wax_smit_input = widgets.Text(value='wax_smit.txt',description='Petrophysical', disabled=True)\n",
    "\n",
    "display(bc_sig_input,wax_smit_input)\n",
    "\n",
    "print('Select Jupyter Notebook: .ipynb')\n",
    "py_note_files = [f for f in os.listdir(input_file_path) if f.endswith('.ipynb')]\n",
    "\n",
    "py_note_input = widgets.RadioButtons(\n",
    "    options= py_note_files,\n",
    "    description='Notebook:',\n",
    "    disabled=False\n",
    ")\n",
    "\n",
    "display(py_note_input)\n",
    "\n",
    "print('Select Mapping Fortran Script: .f90')\n",
    "map_for_files = [f for f in os.listdir(input_file_path) if f.endswith('.f90')]\n",
    "\n",
    "map_for_input = widgets.RadioButtons(\n",
    "    options= map_for_files,\n",
    "    description='Fortran:',\n",
    "    disabled=False\n",
    ")\n",
    "\n",
    "display(map_for_input)"
   ]
  },
  {
   "cell_type": "code",
   "execution_count": 27,
   "metadata": {},
   "outputs": [
    {
     "name": "stdout",
     "output_type": "stream",
     "text": [
      "Please input the values of the petrophysical parameters\n"
     ]
    },
    {
     "data": {
      "application/vnd.jupyter.widget-view+json": {
       "model_id": "646410d98e2c45e7ad75b1cba0c8923a",
       "version_major": 2,
       "version_minor": 0
      },
      "text/plain": [
       "FloatText(value=1.0, description='a:')"
      ]
     },
     "metadata": {},
     "output_type": "display_data"
    },
    {
     "data": {
      "application/vnd.jupyter.widget-view+json": {
       "model_id": "994a2b438c574e11a889c4394a16d031",
       "version_major": 2,
       "version_minor": 0
      },
      "text/plain": [
       "FloatText(value=1e-05, description='B:')"
      ]
     },
     "metadata": {},
     "output_type": "display_data"
    },
    {
     "data": {
      "application/vnd.jupyter.widget-view+json": {
       "model_id": "7d5d943dd8274774bec95fe0c4589937",
       "version_major": 2,
       "version_minor": 0
      },
      "text/plain": [
       "FloatText(value=1e-06, description='Qv:')"
      ]
     },
     "metadata": {},
     "output_type": "display_data"
    },
    {
     "data": {
      "application/vnd.jupyter.widget-view+json": {
       "model_id": "12f29f8158d645b698ec0605a5d9a1f3",
       "version_major": 2,
       "version_minor": 0
      },
      "text/plain": [
       "FloatText(value=1.3, description='c:')"
      ]
     },
     "metadata": {},
     "output_type": "display_data"
    },
    {
     "data": {
      "application/vnd.jupyter.widget-view+json": {
       "model_id": "cd32cd9c3b684205ad5620afcac774eb",
       "version_major": 2,
       "version_minor": 0
      },
      "text/plain": [
       "FloatText(value=2.0, description='m:')"
      ]
     },
     "metadata": {},
     "output_type": "display_data"
    },
    {
     "data": {
      "application/vnd.jupyter.widget-view+json": {
       "model_id": "858e05402980462880e6284cf23de0ef",
       "version_major": 2,
       "version_minor": 0
      },
      "text/plain": [
       "FloatText(value=0.02, description='t:')"
      ]
     },
     "metadata": {},
     "output_type": "display_data"
    }
   ],
   "source": [
    "if 'wax_smit.txt' not in [f for f in os.listdir(input_file_path) if f.endswith('.txt')]:\n",
    "\n",
    "    print('Please input the values of the petrophysical parameters')\n",
    "    a_input = widgets.FloatText(value=1,description='a:',disabled=False)\n",
    "    B_input = widgets.FloatText(value=1e-5,description='B:',disabled=False)\n",
    "    Qv_input = widgets.FloatText(value=1e-6,description='Qv:',disabled=False)\n",
    "    c_input = widgets.FloatText(value=1.3,description='c:',disabled=False)\n",
    "    m_input = widgets.FloatText(value=2,description='m:',disabled=False)\n",
    "    t_input = widgets.FloatText(value=2e-2,description='t:',disabled=False)\n",
    "    \n",
    "    display(a_input,B_input,Qv_input,c_input,m_input,t_input)"
   ]
  },
  {
   "cell_type": "code",
   "execution_count": 28,
   "metadata": {},
   "outputs": [
    {
     "name": "stdout",
     "output_type": "stream",
     "text": [
      "The prefix of all the E4D mesh files are the same:  \u001b[0;30;42me4d_mesh\u001b[0m\n",
      "The Mesh Visulization File:  \u001b[0;30;42me4d_mesh.exo\u001b[0m\n",
      "The Mesh Interpolation Matrix:  \u001b[0;30;42me4d_mesh_map.bin\u001b[0m\n",
      "The petrophysical parameter file is  \u001b[0;30;42mwax_smit.txt\u001b[0m\n",
      "The Variable Mapping Files:  \u001b[0;30;42me4d_mesh.sig\u001b[0m and \u001b[0;30;42mwax_smit.txt\u001b[0m\n",
      "The Jupyter Notebook:  \u001b[0;30;42mForward_Mode.ipynb\u001b[0m\n",
      "The Mapping Fortran:  \u001b[0;30;42mmodify.f90\u001b[0m\n"
     ]
    }
   ],
   "source": [
    "# Check the prefix of the E4D Mesh files are same or not.\n",
    "mesh_ele_name = mesh_ele_name_input.value\n",
    "mesh_ele_name_len = len(mesh_ele_name)\n",
    "mesh_ele_name_prefix = mesh_ele_name[0:(mesh_ele_name_len-6)]\n",
    "    \n",
    "mesh_node_name = mesh_node_name_input.value\n",
    "mesh_node_name_len = len(mesh_node_name)\n",
    "mesh_node_name_prefix = mesh_node_name[0:(mesh_node_name_len-7)]\n",
    "\n",
    "mesh_face_name = mesh_face_name_input.value\n",
    "mesh_face_name_len = len(mesh_face_name)\n",
    "mesh_face_name_prefix = mesh_face_name[0:(mesh_face_name_len-7)]\n",
    "    \n",
    "mesh_trn_name = mesh_trn_name_input.value\n",
    "mesh_trn_name_len = len(mesh_trn_name)\n",
    "mesh_trn_name_prefix = mesh_ele_name[0:(mesh_trn_name_len-4)]\n",
    "\n",
    "mesh_neigh_name = mesh_neigh_name_input.value\n",
    "mesh_neigh_name_len = len(mesh_neigh_name)\n",
    "mesh_neigh_name_prefix = mesh_neigh_name[0:(mesh_neigh_name_len-8)]\n",
    "    \n",
    "if mesh_ele_name_prefix == mesh_node_name_prefix == mesh_face_name_prefix == mesh_trn_name_prefix:\n",
    "    prefix = mesh_ele_name_prefix\n",
    "    print ('The prefix of all the E4D mesh files are the same: ','\\x1b[0;30;42m' +prefix+ '\\x1b[0m')\n",
    "else:\n",
    "    print ('The prefix looks different. Please check the files or rename them.')\n",
    "\n",
    "# Read Mesh exo selection and show it.\n",
    "exo_file = mesh_exo_name_input.value\n",
    "print ('The Mesh Visulization File: ','\\x1b[0;30;42m' +exo_file+ '\\x1b[0m')\n",
    "    \n",
    "# Read PFLOTRAN_E4D Mesh Interpolation matrix selection and show it.\n",
    "mapfile = mesh_inter_input.value\n",
    "print ('The Mesh Interpolation Matrix: ','\\x1b[0;30;42m' +mapfile+ '\\x1b[0m')\n",
    "\n",
    "# Read Variable Mapping selection and show it.\n",
    "bc_sig = bc_sig_input.value\n",
    "\n",
    "if 'wax_smit.txt' not in [f for f in os.listdir(input_file_path) if f.endswith('.txt')]:\n",
    "    f = open(input_file_path+mesh_ele_name)\n",
    "    petro_lines = f.readlines()\n",
    "    lines_NO = petro_lines[0].split()\n",
    "    lines_num = int(lines_NO[0])\n",
    "    \n",
    "    ff = open(input_file_path+'wax_smit.txt', 'w+')\n",
    "\n",
    "    ff.write(lines_NO[0])\n",
    "    ff.write('\\n')\n",
    "    wax_sim_line = str(a_input.value)+' '+str(B_input.value)+' '+str(Qv_input.value)+' '+str(c_input.value)+' '+str(m_input.value)+' '+str(t_input.value)\n",
    "\n",
    "    for i in range(lines_num):\n",
    "        ff.write(wax_sim_line)\n",
    "        ff.write('\\n')\n",
    "\n",
    "    ff.close()\n",
    "\n",
    "petro_file_name = 'wax_smit.txt'\n",
    "    \n",
    "print('The petrophysical parameter file is ', '\\x1b[0;30;42m'+petro_file_name+'\\x1b[0m')\n",
    "\n",
    "print ('The Variable Mapping Files: ','\\x1b[0;30;42m' +bc_sig+ '\\x1b[0m','and','\\x1b[0;30;42m' +petro_file_name+ '\\x1b[0m')\n",
    "\n",
    "# Read Jupyter Notebook selection and show it.\n",
    "py_note = py_note_input.value\n",
    "print ('The Jupyter Notebook: ','\\x1b[0;30;42m' +py_note+ '\\x1b[0m')\n",
    "\n",
    "# Read Mapping Fortran selection and show it.\n",
    "map_for = map_for_input.value\n",
    "print ('The Mapping Fortran: ','\\x1b[0;30;42m' +map_for+ '\\x1b[0m')"
   ]
  },
  {
   "cell_type": "code",
   "execution_count": 29,
   "metadata": {},
   "outputs": [],
   "source": [
    "for i in range (real_name_num):\n",
    "    real_name_prefix =  iter_folder_name + '-'+ real_name_list[i]\n",
    "    data_path_real = data_path_iter+'/' +  real_name_prefix\n",
    "    \n",
    "    shutil.copy(input_file_path+py_note, data_path_real)\n",
    "    shutil.copy(input_file_path+mesh_trn_name, data_path_real)"
   ]
  },
  {
   "cell_type": "code",
   "execution_count": 9,
   "metadata": {},
   "outputs": [],
   "source": [
    "for i in range (real_name_num):\n",
    "    real_copy_source_name = 'pflotran'+real_name_list[i]+'-'\n",
    "    real_copy_source_name = [f for f in os.listdir(real_path_source) if f.startswith(real_copy_source_name) and f.endswith('.h5')]\n",
    "    \n",
    "    real_name_prefix =  iter_folder_name + '-'+ real_name_list[i]\n",
    "    data_path_real = data_path_iter+'/' +  real_name_prefix\n",
    "    \n",
    "    for j in range(len(real_copy_source_name)):\n",
    "        shutil.copy(real_path_source+'/'+real_copy_source_name[j], data_path_real)"
   ]
  },
  {
   "cell_type": "code",
   "execution_count": 10,
   "metadata": {},
   "outputs": [],
   "source": [
    "ipynb_name = iter_folder_name + '_ipynb_run.sh'\n",
    "\n",
    "f = open(ipynb_name,'w+')\n",
    "\n",
    "f.write('#!/bin/bash \\n')\n",
    "f.write('#SBATCH --qos=debug \\n')\n",
    "f.write('#SBATCH --time=30 \\n')\n",
    "f.write('#SBATCH --nodes=3 \\n')\n",
    "f.write('#SBATCH --tasks-per-node=68 \\n')\n",
    "f.write('#SBATCH --constraint=knl \\n \\n')\n",
    "\n",
    "for i in range(real_name_num):\n",
    "    f.write('cd /global/cscratch1/sd/vthw28/Iter1/Iter1-R'+str(i+1))\n",
    "    f.write('\\n')\n",
    "    f.write('jupyter nbconvert --execute Forward_Mode.ipynb --ExecutePreprocessor.timeout=1800')\n",
    "    f.write(' &')\n",
    "    f.write('\\n')\n",
    "    \n",
    "f.write('wait')\n",
    "\n",
    "f.close()"
   ]
  },
  {
   "cell_type": "code",
   "execution_count": 12,
   "metadata": {},
   "outputs": [],
   "source": [
    "e4d_run_sh = iter_folder_name + '_e4d_forward.sh'\n",
    "\n",
    "f = open(e4d_run_sh,'w+')\n",
    "\n",
    "f.write('#!/bin/bash \\n')\n",
    "f.write('#SBATCH --qos=regular \\n')\n",
    "f.write('#SBATCH --time=05:00:00 \\n')\n",
    "f.write('#SBATCH --nodes=1600 \\n')\n",
    "f.write('#SBATCH --tasks-per-node=45 \\n')\n",
    "f.write('#SBATCH --constraint=knl \\n \\n')\n",
    "\n",
    "for i in range(real_name_num):\n",
    "    f.write('cd /global/cscratch1/sd/vthw28/Iter1/Iter1-R'+str(i+1))\n",
    "    f.write('\\n')\n",
    "    f.write('~/test/petsc/arch-linux-c-opt/bin/mpirun -np 353 ~/test/e4d_dev/bin/e4d ')\n",
    "    f.write(' &')\n",
    "    f.write('\\n')\n",
    "    \n",
    "f.write('wait')\n",
    "\n",
    "f.close()"
   ]
  },
  {
   "cell_type": "code",
   "execution_count": null,
   "metadata": {},
   "outputs": [],
   "source": [
    "# jupyter nbconvert --execute Forward_Mode.ipynb --ExecutePreprocessor.timeout=1800"
   ]
  }
 ],
 "metadata": {
  "kernelspec": {
   "display_name": "vthw28_env",
   "language": "python",
   "name": "vthw28_env"
  },
  "language_info": {
   "codemirror_mode": {
    "name": "ipython",
    "version": 3
   },
   "file_extension": ".py",
   "mimetype": "text/x-python",
   "name": "python",
   "nbconvert_exporter": "python",
   "pygments_lexer": "ipython3",
   "version": "3.6.9"
  }
 },
 "nbformat": 4,
 "nbformat_minor": 4
}
