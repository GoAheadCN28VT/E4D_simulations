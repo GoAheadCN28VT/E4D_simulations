{
 "cells": [
  {
   "cell_type": "markdown",
   "metadata": {},
   "source": [
    "# 1. Pre-processing"
   ]
  },
  {
   "cell_type": "markdown",
   "metadata": {},
   "source": [
    "## 1.1 Modules Import"
   ]
  },
  {
   "cell_type": "code",
   "execution_count": 1,
   "metadata": {},
   "outputs": [],
   "source": [
    "#Import libraries\n",
    "import os\n",
    "import ipywidgets as widgets\n",
    "import shutil\n",
    "import h5py\n",
    "import numpy as np\n",
    "\n",
    "# Widgets style definition\n",
    "style = {'description_width': '150px'}"
   ]
  },
  {
   "cell_type": "markdown",
   "metadata": {},
   "source": [
    "## 1.2 Data Source and Destination Folder Path"
   ]
  },
  {
   "cell_type": "code",
   "execution_count": 5,
   "metadata": {},
   "outputs": [
    {
     "data": {
      "application/vnd.jupyter.widget-view+json": {
       "model_id": "92010ebc856a4cbe9d750ceca3f01a1d",
       "version_major": 2,
       "version_minor": 0
      },
      "text/plain": [
       "Text(value='/global/cscratch1/sd/vthw28/ChenXY/Prior_Pflotran_Output/', description='.h5 Source Folder Path:',…"
      ]
     },
     "metadata": {},
     "output_type": "display_data"
    },
    {
     "data": {
      "application/vnd.jupyter.widget-view+json": {
       "model_id": "2bc6fc2d9a8c416ea1c1a009ef0e8595",
       "version_major": 2,
       "version_minor": 0
      },
      "text/plain": [
       "Text(value='/global/cscratch1/sd/vthw28/', description='Result Folder Path:', style=DescriptionStyle(descripti…"
      ]
     },
     "metadata": {},
     "output_type": "display_data"
    },
    {
     "data": {
      "application/vnd.jupyter.widget-view+json": {
       "model_id": "f5ad01a419d642d2ab558e6f39ac69b5",
       "version_major": 2,
       "version_minor": 0
      },
      "text/plain": [
       "Text(value='Prior_Pflotran_Output', description='Result Folder Name:', style=DescriptionStyle(description_widt…"
      ]
     },
     "metadata": {},
     "output_type": "display_data"
    }
   ],
   "source": [
    "# Input the path containing all .h5 files\n",
    "iter_path_source_input = widgets.Text(\n",
    "    value= '/global/cscratch1/sd/vthw28/ChenXY/Prior_Pflotran_Output/',\n",
    "    description='.h5 Source Folder Path:',\n",
    "    disabled=False,\n",
    "    style=style)\n",
    "\n",
    "# Path where to make a folder to put all processing data\n",
    "data_path_main_input = widgets.Text(\n",
    "    value= '/global/cscratch1/sd/vthw28/',\n",
    "    description='Result Folder Path:',\n",
    "    disabled=False,\n",
    "    style=style)\n",
    "\n",
    "# Input folder name\n",
    "folder_name_input = widgets.Text(\n",
    "    value= 'Prior_Pflotran_Output',\n",
    "    description='Result Folder Name:',\n",
    "    disabled=False,\n",
    "    style=style)\n",
    "\n",
    "display(iter_path_source_input,data_path_main_input,folder_name_input)"
   ]
  },
  {
   "cell_type": "markdown",
   "metadata": {},
   "source": [
    "## 1.3 Make Folders for Every File"
   ]
  },
  {
   "cell_type": "code",
   "execution_count": 8,
   "metadata": {},
   "outputs": [
    {
     "name": "stdout",
     "output_type": "stream",
     "text": [
      "Making folder named \u001b[0;30;42mPrior_Pflotran_Output\u001b[0m under the path \u001b[0;30;42m/global/cscratch1/sd/vthw28/\u001b[0m\n",
      "The directory named \u001b[0;30;41m/global/cscratch1/sd/vthw28/Prior_Pflotran_Output\u001b[0m has existed.\n"
     ]
    }
   ],
   "source": [
    "# Define data processing path to make files\n",
    "data_path_main = data_path_main_input.value\n",
    "\n",
    "# Define the iteration path\n",
    "# iter_path_source = '/global/project/projectdirs/m1800/hydrogeophysics/'\n",
    "iter_path_source = iter_path_source_input.value\n",
    "\n",
    "# Folders inside the path\n",
    "iter_name = os.listdir(iter_path_source)\n",
    "\n",
    "# Select one iteration folder\n",
    "iter_folder_name = folder_name_input.value\n",
    "\n",
    "print('Making folder named','\\x1b[0;30;42m'+iter_folder_name+'\\x1b[0m','under the path','\\x1b[0;30;42m'+data_path_main+'\\x1b[0m')\n",
    "\n",
    "data_path_iter = data_path_main+iter_folder_name\n",
    "iter_name_check = os.listdir(data_path_main)\n",
    "\n",
    "if iter_folder_name in iter_name_check:\n",
    "    print('The directory named', '\\x1b[0;30;41m'+data_path_iter+'\\x1b[0m','has existed.')\n",
    "else:\n",
    "    os.mkdir(data_path_iter)\n",
    "    print ('Successfully created the directory', '\\x1b[0;30;42m'+data_path_iter+'\\x1b[0m')"
   ]
  },
  {
   "cell_type": "code",
   "execution_count": 21,
   "metadata": {
    "scrolled": true
   },
   "outputs": [
    {
     "name": "stdout",
     "output_type": "stream",
     "text": [
      "For the selected \u001b[0;30;42m/global/cscratch1/sd/vthw28/ChenXY/Prior_Pflotran_Output/\u001b[0m , there are \u001b[0;30;42m200\u001b[0m realization files.\n",
      "There would be \u001b[0;30;42m200\u001b[0m folders created under the path \u001b[0;30;42m/global/cscratch1/sd/vthw28/Prior_Pflotran_Output/\u001b[0m\n",
      "Making directory and copying pflotran simulation files:\n",
      "Successfully created the directory \u001b[0;30;42m/global/cscratch1/sd/vthw28/Prior_Pflotran_Output/pflotranR1-000\u001b[0m\n",
      "Successfully created the directory \u001b[0;30;42m/global/cscratch1/sd/vthw28/Prior_Pflotran_Output/pflotranR10-000\u001b[0m\n",
      "Successfully created the directory \u001b[0;30;42m/global/cscratch1/sd/vthw28/Prior_Pflotran_Output/pflotranR100-000\u001b[0m\n",
      "Successfully created the directory \u001b[0;30;42m/global/cscratch1/sd/vthw28/Prior_Pflotran_Output/pflotranR101-000\u001b[0m\n",
      "Successfully created the directory \u001b[0;30;42m/global/cscratch1/sd/vthw28/Prior_Pflotran_Output/pflotranR102-000\u001b[0m\n",
      "Successfully created the directory \u001b[0;30;42m/global/cscratch1/sd/vthw28/Prior_Pflotran_Output/pflotranR103-000\u001b[0m\n",
      "Successfully created the directory \u001b[0;30;42m/global/cscratch1/sd/vthw28/Prior_Pflotran_Output/pflotranR104-000\u001b[0m\n",
      "Successfully created the directory \u001b[0;30;42m/global/cscratch1/sd/vthw28/Prior_Pflotran_Output/pflotranR105-000\u001b[0m\n",
      "Successfully created the directory \u001b[0;30;42m/global/cscratch1/sd/vthw28/Prior_Pflotran_Output/pflotranR106-000\u001b[0m\n",
      "Successfully created the directory \u001b[0;30;42m/global/cscratch1/sd/vthw28/Prior_Pflotran_Output/pflotranR107-000\u001b[0m\n",
      "Successfully created the directory \u001b[0;30;42m/global/cscratch1/sd/vthw28/Prior_Pflotran_Output/pflotranR108-000\u001b[0m\n",
      "Successfully created the directory \u001b[0;30;42m/global/cscratch1/sd/vthw28/Prior_Pflotran_Output/pflotranR109-000\u001b[0m\n",
      "Successfully created the directory \u001b[0;30;42m/global/cscratch1/sd/vthw28/Prior_Pflotran_Output/pflotranR11-000\u001b[0m\n",
      "Successfully created the directory \u001b[0;30;42m/global/cscratch1/sd/vthw28/Prior_Pflotran_Output/pflotranR110-000\u001b[0m\n",
      "Successfully created the directory \u001b[0;30;42m/global/cscratch1/sd/vthw28/Prior_Pflotran_Output/pflotranR111-000\u001b[0m\n",
      "Successfully created the directory \u001b[0;30;42m/global/cscratch1/sd/vthw28/Prior_Pflotran_Output/pflotranR112-000\u001b[0m\n",
      "Successfully created the directory \u001b[0;30;42m/global/cscratch1/sd/vthw28/Prior_Pflotran_Output/pflotranR113-000\u001b[0m\n",
      "Successfully created the directory \u001b[0;30;42m/global/cscratch1/sd/vthw28/Prior_Pflotran_Output/pflotranR114-000\u001b[0m\n",
      "Successfully created the directory \u001b[0;30;42m/global/cscratch1/sd/vthw28/Prior_Pflotran_Output/pflotranR115-000\u001b[0m\n",
      "Successfully created the directory \u001b[0;30;42m/global/cscratch1/sd/vthw28/Prior_Pflotran_Output/pflotranR116-000\u001b[0m\n",
      "Successfully created the directory \u001b[0;30;42m/global/cscratch1/sd/vthw28/Prior_Pflotran_Output/pflotranR117-000\u001b[0m\n",
      "Successfully created the directory \u001b[0;30;42m/global/cscratch1/sd/vthw28/Prior_Pflotran_Output/pflotranR118-000\u001b[0m\n",
      "Successfully created the directory \u001b[0;30;42m/global/cscratch1/sd/vthw28/Prior_Pflotran_Output/pflotranR119-000\u001b[0m\n",
      "Successfully created the directory \u001b[0;30;42m/global/cscratch1/sd/vthw28/Prior_Pflotran_Output/pflotranR12-000\u001b[0m\n",
      "Successfully created the directory \u001b[0;30;42m/global/cscratch1/sd/vthw28/Prior_Pflotran_Output/pflotranR120-000\u001b[0m\n",
      "Successfully created the directory \u001b[0;30;42m/global/cscratch1/sd/vthw28/Prior_Pflotran_Output/pflotranR121-000\u001b[0m\n",
      "Successfully created the directory \u001b[0;30;42m/global/cscratch1/sd/vthw28/Prior_Pflotran_Output/pflotranR122-000\u001b[0m\n",
      "Successfully created the directory \u001b[0;30;42m/global/cscratch1/sd/vthw28/Prior_Pflotran_Output/pflotranR123-000\u001b[0m\n",
      "Successfully created the directory \u001b[0;30;42m/global/cscratch1/sd/vthw28/Prior_Pflotran_Output/pflotranR124-000\u001b[0m\n",
      "Successfully created the directory \u001b[0;30;42m/global/cscratch1/sd/vthw28/Prior_Pflotran_Output/pflotranR125-000\u001b[0m\n",
      "Successfully created the directory \u001b[0;30;42m/global/cscratch1/sd/vthw28/Prior_Pflotran_Output/pflotranR126-000\u001b[0m\n",
      "Successfully created the directory \u001b[0;30;42m/global/cscratch1/sd/vthw28/Prior_Pflotran_Output/pflotranR127-000\u001b[0m\n",
      "Successfully created the directory \u001b[0;30;42m/global/cscratch1/sd/vthw28/Prior_Pflotran_Output/pflotranR128-000\u001b[0m\n",
      "Successfully created the directory \u001b[0;30;42m/global/cscratch1/sd/vthw28/Prior_Pflotran_Output/pflotranR129-000\u001b[0m\n",
      "Successfully created the directory \u001b[0;30;42m/global/cscratch1/sd/vthw28/Prior_Pflotran_Output/pflotranR13-000\u001b[0m\n",
      "Successfully created the directory \u001b[0;30;42m/global/cscratch1/sd/vthw28/Prior_Pflotran_Output/pflotranR130-000\u001b[0m\n",
      "Successfully created the directory \u001b[0;30;42m/global/cscratch1/sd/vthw28/Prior_Pflotran_Output/pflotranR131-000\u001b[0m\n",
      "Successfully created the directory \u001b[0;30;42m/global/cscratch1/sd/vthw28/Prior_Pflotran_Output/pflotranR132-000\u001b[0m\n",
      "Successfully created the directory \u001b[0;30;42m/global/cscratch1/sd/vthw28/Prior_Pflotran_Output/pflotranR133-000\u001b[0m\n",
      "Successfully created the directory \u001b[0;30;42m/global/cscratch1/sd/vthw28/Prior_Pflotran_Output/pflotranR134-000\u001b[0m\n",
      "Successfully created the directory \u001b[0;30;42m/global/cscratch1/sd/vthw28/Prior_Pflotran_Output/pflotranR135-000\u001b[0m\n",
      "Successfully created the directory \u001b[0;30;42m/global/cscratch1/sd/vthw28/Prior_Pflotran_Output/pflotranR136-000\u001b[0m\n",
      "Successfully created the directory \u001b[0;30;42m/global/cscratch1/sd/vthw28/Prior_Pflotran_Output/pflotranR137-000\u001b[0m\n",
      "Successfully created the directory \u001b[0;30;42m/global/cscratch1/sd/vthw28/Prior_Pflotran_Output/pflotranR138-000\u001b[0m\n",
      "Successfully created the directory \u001b[0;30;42m/global/cscratch1/sd/vthw28/Prior_Pflotran_Output/pflotranR139-000\u001b[0m\n",
      "Successfully created the directory \u001b[0;30;42m/global/cscratch1/sd/vthw28/Prior_Pflotran_Output/pflotranR14-000\u001b[0m\n",
      "Successfully created the directory \u001b[0;30;42m/global/cscratch1/sd/vthw28/Prior_Pflotran_Output/pflotranR140-000\u001b[0m\n",
      "Successfully created the directory \u001b[0;30;42m/global/cscratch1/sd/vthw28/Prior_Pflotran_Output/pflotranR141-000\u001b[0m\n",
      "Successfully created the directory \u001b[0;30;42m/global/cscratch1/sd/vthw28/Prior_Pflotran_Output/pflotranR142-000\u001b[0m\n",
      "Successfully created the directory \u001b[0;30;42m/global/cscratch1/sd/vthw28/Prior_Pflotran_Output/pflotranR143-000\u001b[0m\n",
      "Successfully created the directory \u001b[0;30;42m/global/cscratch1/sd/vthw28/Prior_Pflotran_Output/pflotranR144-000\u001b[0m\n",
      "Successfully created the directory \u001b[0;30;42m/global/cscratch1/sd/vthw28/Prior_Pflotran_Output/pflotranR145-000\u001b[0m\n",
      "Successfully created the directory \u001b[0;30;42m/global/cscratch1/sd/vthw28/Prior_Pflotran_Output/pflotranR146-000\u001b[0m\n",
      "Successfully created the directory \u001b[0;30;42m/global/cscratch1/sd/vthw28/Prior_Pflotran_Output/pflotranR147-000\u001b[0m\n",
      "Successfully created the directory \u001b[0;30;42m/global/cscratch1/sd/vthw28/Prior_Pflotran_Output/pflotranR148-000\u001b[0m\n",
      "Successfully created the directory \u001b[0;30;42m/global/cscratch1/sd/vthw28/Prior_Pflotran_Output/pflotranR149-000\u001b[0m\n",
      "Successfully created the directory \u001b[0;30;42m/global/cscratch1/sd/vthw28/Prior_Pflotran_Output/pflotranR15-000\u001b[0m\n",
      "Successfully created the directory \u001b[0;30;42m/global/cscratch1/sd/vthw28/Prior_Pflotran_Output/pflotranR150-000\u001b[0m\n",
      "Successfully created the directory \u001b[0;30;42m/global/cscratch1/sd/vthw28/Prior_Pflotran_Output/pflotranR151-000\u001b[0m\n",
      "Successfully created the directory \u001b[0;30;42m/global/cscratch1/sd/vthw28/Prior_Pflotran_Output/pflotranR152-000\u001b[0m\n",
      "Successfully created the directory \u001b[0;30;42m/global/cscratch1/sd/vthw28/Prior_Pflotran_Output/pflotranR153-000\u001b[0m\n",
      "Successfully created the directory \u001b[0;30;42m/global/cscratch1/sd/vthw28/Prior_Pflotran_Output/pflotranR154-000\u001b[0m\n",
      "Successfully created the directory \u001b[0;30;42m/global/cscratch1/sd/vthw28/Prior_Pflotran_Output/pflotranR155-000\u001b[0m\n",
      "Successfully created the directory \u001b[0;30;42m/global/cscratch1/sd/vthw28/Prior_Pflotran_Output/pflotranR156-000\u001b[0m\n",
      "Successfully created the directory \u001b[0;30;42m/global/cscratch1/sd/vthw28/Prior_Pflotran_Output/pflotranR157-000\u001b[0m\n",
      "Successfully created the directory \u001b[0;30;42m/global/cscratch1/sd/vthw28/Prior_Pflotran_Output/pflotranR158-000\u001b[0m\n",
      "Successfully created the directory \u001b[0;30;42m/global/cscratch1/sd/vthw28/Prior_Pflotran_Output/pflotranR159-000\u001b[0m\n",
      "Successfully created the directory \u001b[0;30;42m/global/cscratch1/sd/vthw28/Prior_Pflotran_Output/pflotranR16-000\u001b[0m\n",
      "Successfully created the directory \u001b[0;30;42m/global/cscratch1/sd/vthw28/Prior_Pflotran_Output/pflotranR160-000\u001b[0m\n",
      "Successfully created the directory \u001b[0;30;42m/global/cscratch1/sd/vthw28/Prior_Pflotran_Output/pflotranR161-000\u001b[0m\n",
      "Successfully created the directory \u001b[0;30;42m/global/cscratch1/sd/vthw28/Prior_Pflotran_Output/pflotranR162-000\u001b[0m\n",
      "Successfully created the directory \u001b[0;30;42m/global/cscratch1/sd/vthw28/Prior_Pflotran_Output/pflotranR163-000\u001b[0m\n",
      "Successfully created the directory \u001b[0;30;42m/global/cscratch1/sd/vthw28/Prior_Pflotran_Output/pflotranR164-000\u001b[0m\n",
      "Successfully created the directory \u001b[0;30;42m/global/cscratch1/sd/vthw28/Prior_Pflotran_Output/pflotranR165-000\u001b[0m\n",
      "Successfully created the directory \u001b[0;30;42m/global/cscratch1/sd/vthw28/Prior_Pflotran_Output/pflotranR166-000\u001b[0m\n",
      "Successfully created the directory \u001b[0;30;42m/global/cscratch1/sd/vthw28/Prior_Pflotran_Output/pflotranR167-000\u001b[0m\n",
      "Successfully created the directory \u001b[0;30;42m/global/cscratch1/sd/vthw28/Prior_Pflotran_Output/pflotranR168-000\u001b[0m\n",
      "Successfully created the directory \u001b[0;30;42m/global/cscratch1/sd/vthw28/Prior_Pflotran_Output/pflotranR169-000\u001b[0m\n",
      "Successfully created the directory \u001b[0;30;42m/global/cscratch1/sd/vthw28/Prior_Pflotran_Output/pflotranR17-000\u001b[0m\n",
      "Successfully created the directory \u001b[0;30;42m/global/cscratch1/sd/vthw28/Prior_Pflotran_Output/pflotranR170-000\u001b[0m\n",
      "Successfully created the directory \u001b[0;30;42m/global/cscratch1/sd/vthw28/Prior_Pflotran_Output/pflotranR171-000\u001b[0m\n",
      "Successfully created the directory \u001b[0;30;42m/global/cscratch1/sd/vthw28/Prior_Pflotran_Output/pflotranR172-000\u001b[0m\n",
      "Successfully created the directory \u001b[0;30;42m/global/cscratch1/sd/vthw28/Prior_Pflotran_Output/pflotranR173-000\u001b[0m\n",
      "Successfully created the directory \u001b[0;30;42m/global/cscratch1/sd/vthw28/Prior_Pflotran_Output/pflotranR174-000\u001b[0m\n",
      "Successfully created the directory \u001b[0;30;42m/global/cscratch1/sd/vthw28/Prior_Pflotran_Output/pflotranR175-000\u001b[0m\n",
      "Successfully created the directory \u001b[0;30;42m/global/cscratch1/sd/vthw28/Prior_Pflotran_Output/pflotranR176-000\u001b[0m\n",
      "Successfully created the directory \u001b[0;30;42m/global/cscratch1/sd/vthw28/Prior_Pflotran_Output/pflotranR177-000\u001b[0m\n",
      "Successfully created the directory \u001b[0;30;42m/global/cscratch1/sd/vthw28/Prior_Pflotran_Output/pflotranR178-000\u001b[0m\n",
      "Successfully created the directory \u001b[0;30;42m/global/cscratch1/sd/vthw28/Prior_Pflotran_Output/pflotranR179-000\u001b[0m\n",
      "Successfully created the directory \u001b[0;30;42m/global/cscratch1/sd/vthw28/Prior_Pflotran_Output/pflotranR18-000\u001b[0m\n",
      "Successfully created the directory \u001b[0;30;42m/global/cscratch1/sd/vthw28/Prior_Pflotran_Output/pflotranR180-000\u001b[0m\n",
      "Successfully created the directory \u001b[0;30;42m/global/cscratch1/sd/vthw28/Prior_Pflotran_Output/pflotranR181-000\u001b[0m\n",
      "Successfully created the directory \u001b[0;30;42m/global/cscratch1/sd/vthw28/Prior_Pflotran_Output/pflotranR182-000\u001b[0m\n",
      "Successfully created the directory \u001b[0;30;42m/global/cscratch1/sd/vthw28/Prior_Pflotran_Output/pflotranR183-000\u001b[0m\n",
      "Successfully created the directory \u001b[0;30;42m/global/cscratch1/sd/vthw28/Prior_Pflotran_Output/pflotranR184-000\u001b[0m\n",
      "Successfully created the directory \u001b[0;30;42m/global/cscratch1/sd/vthw28/Prior_Pflotran_Output/pflotranR185-000\u001b[0m\n",
      "Successfully created the directory \u001b[0;30;42m/global/cscratch1/sd/vthw28/Prior_Pflotran_Output/pflotranR186-000\u001b[0m\n",
      "Successfully created the directory \u001b[0;30;42m/global/cscratch1/sd/vthw28/Prior_Pflotran_Output/pflotranR187-000\u001b[0m\n",
      "Successfully created the directory \u001b[0;30;42m/global/cscratch1/sd/vthw28/Prior_Pflotran_Output/pflotranR188-000\u001b[0m\n",
      "Successfully created the directory \u001b[0;30;42m/global/cscratch1/sd/vthw28/Prior_Pflotran_Output/pflotranR189-000\u001b[0m\n",
      "Successfully created the directory \u001b[0;30;42m/global/cscratch1/sd/vthw28/Prior_Pflotran_Output/pflotranR19-000\u001b[0m\n",
      "Successfully created the directory \u001b[0;30;42m/global/cscratch1/sd/vthw28/Prior_Pflotran_Output/pflotranR190-000\u001b[0m\n",
      "Successfully created the directory \u001b[0;30;42m/global/cscratch1/sd/vthw28/Prior_Pflotran_Output/pflotranR191-000\u001b[0m\n",
      "Successfully created the directory \u001b[0;30;42m/global/cscratch1/sd/vthw28/Prior_Pflotran_Output/pflotranR192-000\u001b[0m\n",
      "Successfully created the directory \u001b[0;30;42m/global/cscratch1/sd/vthw28/Prior_Pflotran_Output/pflotranR193-000\u001b[0m\n",
      "Successfully created the directory \u001b[0;30;42m/global/cscratch1/sd/vthw28/Prior_Pflotran_Output/pflotranR194-000\u001b[0m\n",
      "Successfully created the directory \u001b[0;30;42m/global/cscratch1/sd/vthw28/Prior_Pflotran_Output/pflotranR195-000\u001b[0m\n",
      "Successfully created the directory \u001b[0;30;42m/global/cscratch1/sd/vthw28/Prior_Pflotran_Output/pflotranR196-000\u001b[0m\n",
      "Successfully created the directory \u001b[0;30;42m/global/cscratch1/sd/vthw28/Prior_Pflotran_Output/pflotranR197-000\u001b[0m\n",
      "Successfully created the directory \u001b[0;30;42m/global/cscratch1/sd/vthw28/Prior_Pflotran_Output/pflotranR198-000\u001b[0m\n",
      "Successfully created the directory \u001b[0;30;42m/global/cscratch1/sd/vthw28/Prior_Pflotran_Output/pflotranR199-000\u001b[0m\n",
      "Successfully created the directory \u001b[0;30;42m/global/cscratch1/sd/vthw28/Prior_Pflotran_Output/pflotranR2-000\u001b[0m\n",
      "Successfully created the directory \u001b[0;30;42m/global/cscratch1/sd/vthw28/Prior_Pflotran_Output/pflotranR20-000\u001b[0m\n",
      "Successfully created the directory \u001b[0;30;42m/global/cscratch1/sd/vthw28/Prior_Pflotran_Output/pflotranR200-000\u001b[0m\n",
      "Successfully created the directory \u001b[0;30;42m/global/cscratch1/sd/vthw28/Prior_Pflotran_Output/pflotranR21-000\u001b[0m\n",
      "Successfully created the directory \u001b[0;30;42m/global/cscratch1/sd/vthw28/Prior_Pflotran_Output/pflotranR22-000\u001b[0m\n",
      "Successfully created the directory \u001b[0;30;42m/global/cscratch1/sd/vthw28/Prior_Pflotran_Output/pflotranR23-000\u001b[0m\n",
      "Successfully created the directory \u001b[0;30;42m/global/cscratch1/sd/vthw28/Prior_Pflotran_Output/pflotranR24-000\u001b[0m\n",
      "Successfully created the directory \u001b[0;30;42m/global/cscratch1/sd/vthw28/Prior_Pflotran_Output/pflotranR25-000\u001b[0m\n",
      "Successfully created the directory \u001b[0;30;42m/global/cscratch1/sd/vthw28/Prior_Pflotran_Output/pflotranR26-000\u001b[0m\n",
      "Successfully created the directory \u001b[0;30;42m/global/cscratch1/sd/vthw28/Prior_Pflotran_Output/pflotranR27-000\u001b[0m\n",
      "Successfully created the directory \u001b[0;30;42m/global/cscratch1/sd/vthw28/Prior_Pflotran_Output/pflotranR28-000\u001b[0m\n",
      "Successfully created the directory \u001b[0;30;42m/global/cscratch1/sd/vthw28/Prior_Pflotran_Output/pflotranR29-000\u001b[0m\n",
      "Successfully created the directory \u001b[0;30;42m/global/cscratch1/sd/vthw28/Prior_Pflotran_Output/pflotranR3-000\u001b[0m\n",
      "Successfully created the directory \u001b[0;30;42m/global/cscratch1/sd/vthw28/Prior_Pflotran_Output/pflotranR30-000\u001b[0m\n",
      "Successfully created the directory \u001b[0;30;42m/global/cscratch1/sd/vthw28/Prior_Pflotran_Output/pflotranR31-000\u001b[0m\n",
      "Successfully created the directory \u001b[0;30;42m/global/cscratch1/sd/vthw28/Prior_Pflotran_Output/pflotranR32-000\u001b[0m\n",
      "Successfully created the directory \u001b[0;30;42m/global/cscratch1/sd/vthw28/Prior_Pflotran_Output/pflotranR33-000\u001b[0m\n",
      "Successfully created the directory \u001b[0;30;42m/global/cscratch1/sd/vthw28/Prior_Pflotran_Output/pflotranR34-000\u001b[0m\n",
      "Successfully created the directory \u001b[0;30;42m/global/cscratch1/sd/vthw28/Prior_Pflotran_Output/pflotranR35-000\u001b[0m\n",
      "Successfully created the directory \u001b[0;30;42m/global/cscratch1/sd/vthw28/Prior_Pflotran_Output/pflotranR36-000\u001b[0m\n",
      "Successfully created the directory \u001b[0;30;42m/global/cscratch1/sd/vthw28/Prior_Pflotran_Output/pflotranR37-000\u001b[0m\n",
      "Successfully created the directory \u001b[0;30;42m/global/cscratch1/sd/vthw28/Prior_Pflotran_Output/pflotranR38-000\u001b[0m\n",
      "Successfully created the directory \u001b[0;30;42m/global/cscratch1/sd/vthw28/Prior_Pflotran_Output/pflotranR39-000\u001b[0m\n",
      "Successfully created the directory \u001b[0;30;42m/global/cscratch1/sd/vthw28/Prior_Pflotran_Output/pflotranR4-000\u001b[0m\n",
      "Successfully created the directory \u001b[0;30;42m/global/cscratch1/sd/vthw28/Prior_Pflotran_Output/pflotranR40-000\u001b[0m\n",
      "Successfully created the directory \u001b[0;30;42m/global/cscratch1/sd/vthw28/Prior_Pflotran_Output/pflotranR41-000\u001b[0m\n",
      "Successfully created the directory \u001b[0;30;42m/global/cscratch1/sd/vthw28/Prior_Pflotran_Output/pflotranR42-000\u001b[0m\n",
      "Successfully created the directory \u001b[0;30;42m/global/cscratch1/sd/vthw28/Prior_Pflotran_Output/pflotranR43-000\u001b[0m\n",
      "Successfully created the directory \u001b[0;30;42m/global/cscratch1/sd/vthw28/Prior_Pflotran_Output/pflotranR44-000\u001b[0m\n",
      "Successfully created the directory \u001b[0;30;42m/global/cscratch1/sd/vthw28/Prior_Pflotran_Output/pflotranR45-000\u001b[0m\n",
      "Successfully created the directory \u001b[0;30;42m/global/cscratch1/sd/vthw28/Prior_Pflotran_Output/pflotranR46-000\u001b[0m\n",
      "Successfully created the directory \u001b[0;30;42m/global/cscratch1/sd/vthw28/Prior_Pflotran_Output/pflotranR47-000\u001b[0m\n",
      "Successfully created the directory \u001b[0;30;42m/global/cscratch1/sd/vthw28/Prior_Pflotran_Output/pflotranR48-000\u001b[0m\n",
      "Successfully created the directory \u001b[0;30;42m/global/cscratch1/sd/vthw28/Prior_Pflotran_Output/pflotranR49-000\u001b[0m\n",
      "Successfully created the directory \u001b[0;30;42m/global/cscratch1/sd/vthw28/Prior_Pflotran_Output/pflotranR5-000\u001b[0m\n",
      "Successfully created the directory \u001b[0;30;42m/global/cscratch1/sd/vthw28/Prior_Pflotran_Output/pflotranR50-000\u001b[0m\n",
      "Successfully created the directory \u001b[0;30;42m/global/cscratch1/sd/vthw28/Prior_Pflotran_Output/pflotranR51-000\u001b[0m\n",
      "Successfully created the directory \u001b[0;30;42m/global/cscratch1/sd/vthw28/Prior_Pflotran_Output/pflotranR52-000\u001b[0m\n",
      "Successfully created the directory \u001b[0;30;42m/global/cscratch1/sd/vthw28/Prior_Pflotran_Output/pflotranR53-000\u001b[0m\n",
      "Successfully created the directory \u001b[0;30;42m/global/cscratch1/sd/vthw28/Prior_Pflotran_Output/pflotranR54-000\u001b[0m\n",
      "Successfully created the directory \u001b[0;30;42m/global/cscratch1/sd/vthw28/Prior_Pflotran_Output/pflotranR55-000\u001b[0m\n",
      "Successfully created the directory \u001b[0;30;42m/global/cscratch1/sd/vthw28/Prior_Pflotran_Output/pflotranR56-000\u001b[0m\n",
      "Successfully created the directory \u001b[0;30;42m/global/cscratch1/sd/vthw28/Prior_Pflotran_Output/pflotranR57-000\u001b[0m\n",
      "Successfully created the directory \u001b[0;30;42m/global/cscratch1/sd/vthw28/Prior_Pflotran_Output/pflotranR58-000\u001b[0m\n",
      "Successfully created the directory \u001b[0;30;42m/global/cscratch1/sd/vthw28/Prior_Pflotran_Output/pflotranR59-000\u001b[0m\n",
      "Successfully created the directory \u001b[0;30;42m/global/cscratch1/sd/vthw28/Prior_Pflotran_Output/pflotranR6-000\u001b[0m\n",
      "Successfully created the directory \u001b[0;30;42m/global/cscratch1/sd/vthw28/Prior_Pflotran_Output/pflotranR60-000\u001b[0m\n",
      "Successfully created the directory \u001b[0;30;42m/global/cscratch1/sd/vthw28/Prior_Pflotran_Output/pflotranR61-000\u001b[0m\n",
      "Successfully created the directory \u001b[0;30;42m/global/cscratch1/sd/vthw28/Prior_Pflotran_Output/pflotranR62-000\u001b[0m\n",
      "Successfully created the directory \u001b[0;30;42m/global/cscratch1/sd/vthw28/Prior_Pflotran_Output/pflotranR63-000\u001b[0m\n",
      "Successfully created the directory \u001b[0;30;42m/global/cscratch1/sd/vthw28/Prior_Pflotran_Output/pflotranR64-000\u001b[0m\n",
      "Successfully created the directory \u001b[0;30;42m/global/cscratch1/sd/vthw28/Prior_Pflotran_Output/pflotranR65-000\u001b[0m\n",
      "Successfully created the directory \u001b[0;30;42m/global/cscratch1/sd/vthw28/Prior_Pflotran_Output/pflotranR66-000\u001b[0m\n",
      "Successfully created the directory \u001b[0;30;42m/global/cscratch1/sd/vthw28/Prior_Pflotran_Output/pflotranR67-000\u001b[0m\n",
      "Successfully created the directory \u001b[0;30;42m/global/cscratch1/sd/vthw28/Prior_Pflotran_Output/pflotranR68-000\u001b[0m\n",
      "Successfully created the directory \u001b[0;30;42m/global/cscratch1/sd/vthw28/Prior_Pflotran_Output/pflotranR69-000\u001b[0m\n",
      "Successfully created the directory \u001b[0;30;42m/global/cscratch1/sd/vthw28/Prior_Pflotran_Output/pflotranR7-000\u001b[0m\n",
      "Successfully created the directory \u001b[0;30;42m/global/cscratch1/sd/vthw28/Prior_Pflotran_Output/pflotranR70-000\u001b[0m\n",
      "Successfully created the directory \u001b[0;30;42m/global/cscratch1/sd/vthw28/Prior_Pflotran_Output/pflotranR71-000\u001b[0m\n",
      "Successfully created the directory \u001b[0;30;42m/global/cscratch1/sd/vthw28/Prior_Pflotran_Output/pflotranR72-000\u001b[0m\n",
      "Successfully created the directory \u001b[0;30;42m/global/cscratch1/sd/vthw28/Prior_Pflotran_Output/pflotranR73-000\u001b[0m\n",
      "Successfully created the directory \u001b[0;30;42m/global/cscratch1/sd/vthw28/Prior_Pflotran_Output/pflotranR74-000\u001b[0m\n",
      "Successfully created the directory \u001b[0;30;42m/global/cscratch1/sd/vthw28/Prior_Pflotran_Output/pflotranR75-000\u001b[0m\n",
      "Successfully created the directory \u001b[0;30;42m/global/cscratch1/sd/vthw28/Prior_Pflotran_Output/pflotranR76-000\u001b[0m\n",
      "Successfully created the directory \u001b[0;30;42m/global/cscratch1/sd/vthw28/Prior_Pflotran_Output/pflotranR77-000\u001b[0m\n",
      "Successfully created the directory \u001b[0;30;42m/global/cscratch1/sd/vthw28/Prior_Pflotran_Output/pflotranR78-000\u001b[0m\n",
      "Successfully created the directory \u001b[0;30;42m/global/cscratch1/sd/vthw28/Prior_Pflotran_Output/pflotranR79-000\u001b[0m\n",
      "Successfully created the directory \u001b[0;30;42m/global/cscratch1/sd/vthw28/Prior_Pflotran_Output/pflotranR8-000\u001b[0m\n",
      "Successfully created the directory \u001b[0;30;42m/global/cscratch1/sd/vthw28/Prior_Pflotran_Output/pflotranR80-000\u001b[0m\n",
      "Successfully created the directory \u001b[0;30;42m/global/cscratch1/sd/vthw28/Prior_Pflotran_Output/pflotranR81-000\u001b[0m\n",
      "Successfully created the directory \u001b[0;30;42m/global/cscratch1/sd/vthw28/Prior_Pflotran_Output/pflotranR82-000\u001b[0m\n",
      "Successfully created the directory \u001b[0;30;42m/global/cscratch1/sd/vthw28/Prior_Pflotran_Output/pflotranR83-000\u001b[0m\n",
      "Successfully created the directory \u001b[0;30;42m/global/cscratch1/sd/vthw28/Prior_Pflotran_Output/pflotranR84-000\u001b[0m\n",
      "Successfully created the directory \u001b[0;30;42m/global/cscratch1/sd/vthw28/Prior_Pflotran_Output/pflotranR85-000\u001b[0m\n",
      "Successfully created the directory \u001b[0;30;42m/global/cscratch1/sd/vthw28/Prior_Pflotran_Output/pflotranR86-000\u001b[0m\n",
      "Successfully created the directory \u001b[0;30;42m/global/cscratch1/sd/vthw28/Prior_Pflotran_Output/pflotranR87-000\u001b[0m\n",
      "Successfully created the directory \u001b[0;30;42m/global/cscratch1/sd/vthw28/Prior_Pflotran_Output/pflotranR88-000\u001b[0m\n",
      "Successfully created the directory \u001b[0;30;42m/global/cscratch1/sd/vthw28/Prior_Pflotran_Output/pflotranR89-000\u001b[0m\n",
      "Successfully created the directory \u001b[0;30;42m/global/cscratch1/sd/vthw28/Prior_Pflotran_Output/pflotranR9-000\u001b[0m\n",
      "Successfully created the directory \u001b[0;30;42m/global/cscratch1/sd/vthw28/Prior_Pflotran_Output/pflotranR90-000\u001b[0m\n",
      "Successfully created the directory \u001b[0;30;42m/global/cscratch1/sd/vthw28/Prior_Pflotran_Output/pflotranR91-000\u001b[0m\n",
      "Successfully created the directory \u001b[0;30;42m/global/cscratch1/sd/vthw28/Prior_Pflotran_Output/pflotranR92-000\u001b[0m\n",
      "Successfully created the directory \u001b[0;30;42m/global/cscratch1/sd/vthw28/Prior_Pflotran_Output/pflotranR93-000\u001b[0m\n",
      "Successfully created the directory \u001b[0;30;42m/global/cscratch1/sd/vthw28/Prior_Pflotran_Output/pflotranR94-000\u001b[0m\n",
      "Successfully created the directory \u001b[0;30;42m/global/cscratch1/sd/vthw28/Prior_Pflotran_Output/pflotranR95-000\u001b[0m\n",
      "Successfully created the directory \u001b[0;30;42m/global/cscratch1/sd/vthw28/Prior_Pflotran_Output/pflotranR96-000\u001b[0m\n",
      "Successfully created the directory \u001b[0;30;42m/global/cscratch1/sd/vthw28/Prior_Pflotran_Output/pflotranR97-000\u001b[0m\n",
      "Successfully created the directory \u001b[0;30;42m/global/cscratch1/sd/vthw28/Prior_Pflotran_Output/pflotranR98-000\u001b[0m\n",
      "Successfully created the directory \u001b[0;30;42m/global/cscratch1/sd/vthw28/Prior_Pflotran_Output/pflotranR99-000\u001b[0m\n"
     ]
    }
   ],
   "source": [
    "real_path_source = iter_path_source\n",
    "\n",
    "# Files inside the path with extension '.h5' is the pflotran simulation files. \n",
    "real_file_name = [f for f in os.listdir(real_path_source) if f.endswith('.h5')]\n",
    "real_file_name.sort()\n",
    "real_file_num = len(real_file_name)\n",
    "print('For the selected', '\\x1b[0;30;42m'+real_path_source+'\\x1b[0m',', there are', '\\x1b[0;30;42m'+str(real_file_num)+'\\x1b[0m','realization files.')\n",
    "\n",
    "real_name_list = []\n",
    "# Check the realization name\n",
    "for i in range(real_file_num):\n",
    "    real_name_len = len(real_file_name[i])\n",
    "    \n",
    "    real_name = real_file_name[i][0:(real_name_len-3)]\n",
    "    real_name_list.append(real_name)\n",
    "\n",
    "real_name_list = list(set(real_name_list))\n",
    "real_name_list.sort()\n",
    "\n",
    "real_name_num = len(real_name_list)\n",
    "data_path_real = data_path_iter+'/'\n",
    "print('There would be','\\x1b[0;30;42m'+str(real_name_num)+'\\x1b[0m','folders created under the path','\\x1b[0;30;42m'+data_path_real+'\\x1b[0m')\n",
    "print('Making directory and copying pflotran simulation files:')\n",
    "real_name_check = os.listdir(data_path_iter)\n",
    "\n",
    "for i in range (real_name_num):\n",
    "    real_name_prefix =  real_name_list[i]\n",
    "    data_path_real = data_path_iter+'/' +  real_name_prefix\n",
    "    \n",
    "    if real_name_prefix in real_name_check:\n",
    "        print('The directory named', '\\x1b[0;30;41m'+real_name_prefix+'\\x1b[0m','has existed.')\n",
    "    else:\n",
    "        os.mkdir(data_path_real)\n",
    "        print('Successfully created the directory', '\\x1b[0;30;42m'+data_path_real+'\\x1b[0m')"
   ]
  },
  {
   "cell_type": "markdown",
   "metadata": {},
   "source": [
    "## 1.4 Check Input Files "
   ]
  },
  {
   "cell_type": "code",
   "execution_count": 25,
   "metadata": {},
   "outputs": [
    {
     "data": {
      "application/vnd.jupyter.widget-view+json": {
       "model_id": "aec055958987455a8756663531fc3e8b",
       "version_major": 2,
       "version_minor": 0
      },
      "text/plain": [
       "Text(value='/global/u1/v/vthw28/1/', description='Input File Path:', style=DescriptionStyle(description_width=…"
      ]
     },
     "metadata": {},
     "output_type": "display_data"
    }
   ],
   "source": [
    "input_file_path_input = widgets.Text(\n",
    "    value= '/global/u1/v/vthw28/1/',\n",
    "    description='Input File Path:',\n",
    "    disabled=False,\n",
    "    style=style)\n",
    "\n",
    "display(input_file_path_input)"
   ]
  },
  {
   "cell_type": "code",
   "execution_count": 51,
   "metadata": {},
   "outputs": [
    {
     "name": "stdout",
     "output_type": "stream",
     "text": [
      "Select E4D Mesh Files: .1.ele, .1.node, .1.neigh, .1.face, .trn\n"
     ]
    },
    {
     "data": {
      "application/vnd.jupyter.widget-view+json": {
       "model_id": "5d8cf363cfd64a36aa1a367131491ffa",
       "version_major": 2,
       "version_minor": 0
      },
      "text/plain": [
       "RadioButtons(description='Element File:', options=('E4D_04.1.ele', 'E4D_15.1.ele', 'E4D_1.1.ele'), value='E4D_…"
      ]
     },
     "metadata": {},
     "output_type": "display_data"
    },
    {
     "data": {
      "application/vnd.jupyter.widget-view+json": {
       "model_id": "7200044fb49d4a8c952323a9ed79f6ea",
       "version_major": 2,
       "version_minor": 0
      },
      "text/plain": [
       "RadioButtons(description='Node File:', options=('E4D_1.1.node', 'E4D_15.1.node', 'E4D_04.1.node'), value='E4D_…"
      ]
     },
     "metadata": {},
     "output_type": "display_data"
    },
    {
     "data": {
      "application/vnd.jupyter.widget-view+json": {
       "model_id": "df2cefa9d6764951823e0cb5febb8e27",
       "version_major": 2,
       "version_minor": 0
      },
      "text/plain": [
       "RadioButtons(description='Face File:', options=('E4D_1.1.face', 'E4D_04.1.face', 'E4D_15.1.face'), value='E4D_…"
      ]
     },
     "metadata": {},
     "output_type": "display_data"
    },
    {
     "data": {
      "application/vnd.jupyter.widget-view+json": {
       "model_id": "7f9e5086ff864f9a8ae487e6180089b3",
       "version_major": 2,
       "version_minor": 0
      },
      "text/plain": [
       "RadioButtons(description='Neigh File:', options=('E4D_04.1.neigh', 'E4D_15.1.neigh', 'E4D_1.1.neigh'), value='…"
      ]
     },
     "metadata": {},
     "output_type": "display_data"
    },
    {
     "data": {
      "application/vnd.jupyter.widget-view+json": {
       "model_id": "4e52f04d9d76434899b4a1fd11b2c7fd",
       "version_major": 2,
       "version_minor": 0
      },
      "text/plain": [
       "RadioButtons(description='trn File:', options=('E4D_15.trn', 'E4D_1.trn', 'E4D_04.trn'), value='E4D_15.trn')"
      ]
     },
     "metadata": {},
     "output_type": "display_data"
    },
    {
     "name": "stdout",
     "output_type": "stream",
     "text": [
      "Select E4D Visulization File: .exo\n"
     ]
    },
    {
     "data": {
      "application/vnd.jupyter.widget-view+json": {
       "model_id": "2f3635bb8f644e10b2ef0d4b39d15837",
       "version_major": 2,
       "version_minor": 0
      },
      "text/plain": [
       "RadioButtons(description='exo File:', options=('E4D_15.exo', 'E4D_1.exo', 'E4D_04.exo'), value='E4D_15.exo')"
      ]
     },
     "metadata": {},
     "output_type": "display_data"
    },
    {
     "name": "stdout",
     "output_type": "stream",
     "text": [
      "Select Mesh Interpolation Matrix File: _map.bin\n"
     ]
    },
    {
     "data": {
      "application/vnd.jupyter.widget-view+json": {
       "model_id": "f9b69dd09fe54449b5e61da8da30a787",
       "version_major": 2,
       "version_minor": 0
      },
      "text/plain": [
       "RadioButtons(description='map.bin:', options=('E4D_1_map.bin', 'E4D_15_map.bin', 'E4D_04_map.bin'), value='E4D…"
      ]
     },
     "metadata": {},
     "output_type": "display_data"
    },
    {
     "name": "stdout",
     "output_type": "stream",
     "text": [
      "Select Variable Mapping Files: baseline sigma file and petrophysical parameter file.\n"
     ]
    },
    {
     "data": {
      "application/vnd.jupyter.widget-view+json": {
       "model_id": "33cb59dc81e04ff1bf87fa1e8c3dda81",
       "version_major": 2,
       "version_minor": 0
      },
      "text/plain": [
       "RadioButtons(description='BC Sigma:', options=('E4D_15.sig', 'E4D_1.sig', 'E4D_04.sig'), value='E4D_15.sig')"
      ]
     },
     "metadata": {},
     "output_type": "display_data"
    },
    {
     "data": {
      "application/vnd.jupyter.widget-view+json": {
       "model_id": "18775578f8cd492d9f0b9675c1c27507",
       "version_major": 2,
       "version_minor": 0
      },
      "text/plain": [
       "RadioButtons(description='Wax_smit:', options=('wax_smit.txt',), value='wax_smit.txt')"
      ]
     },
     "metadata": {},
     "output_type": "display_data"
    },
    {
     "name": "stdout",
     "output_type": "stream",
     "text": [
      "Select Jupyter Notebook: .ipynb\n"
     ]
    },
    {
     "data": {
      "application/vnd.jupyter.widget-view+json": {
       "model_id": "78ba9c33b9fe43a4850bd373210ae033",
       "version_major": 2,
       "version_minor": 0
      },
      "text/plain": [
       "RadioButtons(description='Notebook:', options=('Forward_Mode.ipynb',), value='Forward_Mode.ipynb')"
      ]
     },
     "metadata": {},
     "output_type": "display_data"
    },
    {
     "name": "stdout",
     "output_type": "stream",
     "text": [
      "Select Mapping Fortran Script: .f90\n"
     ]
    },
    {
     "data": {
      "application/vnd.jupyter.widget-view+json": {
       "model_id": "aa00255478864c86b9d2fde8b7723e02",
       "version_major": 2,
       "version_minor": 0
      },
      "text/plain": [
       "RadioButtons(description='Fortran:', options=('mapit.f90',), value='mapit.f90')"
      ]
     },
     "metadata": {},
     "output_type": "display_data"
    },
    {
     "name": "stdout",
     "output_type": "stream",
     "text": [
      "Select porosity data file: .h5\n"
     ]
    },
    {
     "data": {
      "application/vnd.jupyter.widget-view+json": {
       "model_id": "e217be4a0719458f97185e10a4112dda",
       "version_major": 2,
       "version_minor": 0
      },
      "text/plain": [
       "RadioButtons(description='Porosity File:', options=('pflotran_porosity-000.h5',), value='pflotran_porosity-000…"
      ]
     },
     "metadata": {},
     "output_type": "display_data"
    },
    {
     "name": "stdout",
     "output_type": "stream",
     "text": [
      "\u001b[0;30;42mComputational Survey File exists.\u001b[0m\n"
     ]
    }
   ],
   "source": [
    "# Define input files path\n",
    "input_file_path = input_file_path_input.value\n",
    "\n",
    "print('Select E4D Mesh Files: .1.ele, .1.node, .1.neigh, .1.face, .trn')\n",
    "mesh_ele_files = [f for f in os.listdir(input_file_path) if f.endswith('.1.ele')]\n",
    "mesh_node_files = [f for f in os.listdir(input_file_path) if f.endswith('.1.node')]\n",
    "mesh_neigh_files = [f for f in os.listdir(input_file_path) if f.endswith('.1.neigh')]\n",
    "mesh_face_files = [f for f in os.listdir(input_file_path) if f.endswith('.1.face')]\n",
    "mesh_trn_files = [f for f in os.listdir(input_file_path) if f.endswith('.trn')]\n",
    "\n",
    "mesh_ele_name_input = widgets.RadioButtons(\n",
    "    options= mesh_ele_files,\n",
    "    description='Element File:',\n",
    "    disabled=False\n",
    ")\n",
    "mesh_node_name_input = widgets.RadioButtons(\n",
    "    options= mesh_node_files,\n",
    "    description='Node File:',\n",
    "    disabled=False\n",
    ")\n",
    "mesh_face_name_input = widgets.RadioButtons(\n",
    "    options= mesh_face_files,\n",
    "    description='Face File:',\n",
    "    disabled=False\n",
    ")\n",
    "mesh_neigh_name_input = widgets.RadioButtons(\n",
    "    options= mesh_neigh_files,\n",
    "    description='Neigh File:',\n",
    "    disabled=False\n",
    ")\n",
    "mesh_trn_name_input = widgets.RadioButtons(\n",
    "    options= mesh_trn_files,\n",
    "    description='trn File:',\n",
    "    disabled=False\n",
    ")\n",
    "\n",
    "display(mesh_ele_name_input, mesh_node_name_input, mesh_face_name_input, mesh_neigh_name_input, mesh_trn_name_input )\n",
    "\n",
    "print('Select E4D Visulization File: .exo')\n",
    "mesh_exo_files = [f for f in os.listdir(input_file_path) if f.endswith('.exo')]\n",
    "\n",
    "mesh_exo_name_input = widgets.RadioButtons(\n",
    "    options= mesh_exo_files,\n",
    "    description='exo File:',\n",
    "    disabled=False\n",
    ")\n",
    "\n",
    "display(mesh_exo_name_input)\n",
    "\n",
    "print('Select Mesh Interpolation Matrix File: _map.bin')\n",
    "mesh_inter_files = [f for f in os.listdir(input_file_path) if f.endswith('_map.bin')]\n",
    "\n",
    "mesh_inter_input = widgets.RadioButtons(\n",
    "    options= mesh_inter_files,\n",
    "    description='map.bin:',\n",
    "    disabled=False\n",
    ")\n",
    "\n",
    "display(mesh_inter_input)\n",
    "\n",
    "print('Select Variable Mapping Files: baseline sigma file and petrophysical parameter file.')\n",
    "bc_sig_files = [f for f in os.listdir(input_file_path) if f.endswith('.sig')]\n",
    "\n",
    "bc_sig_input = widgets.RadioButtons(\n",
    "    options= bc_sig_files,\n",
    "    description='BC Sigma:',\n",
    "    disabled=False\n",
    ")\n",
    "\n",
    "display(bc_sig_input)\n",
    "\n",
    "wax_simt_files = [f for f in os.listdir(input_file_path) if f.startswith('wax_smit') and f.endswith('.txt')]\n",
    "wax_smit_files_num = len(wax_simt_files)\n",
    "\n",
    "if wax_smit_files_num != 0:\n",
    "    wax_smit_input = widgets.RadioButtons(\n",
    "    options= wax_simt_files,\n",
    "    description='Wax_smit:',\n",
    "    disabled=False\n",
    "    )\n",
    "    \n",
    "    display(wax_smit_input)\n",
    "    \n",
    "else:\n",
    "    print('\\x1b[0;30;41m'+'No petrophysical parameter file available.'+'\\x1b[0m')\n",
    "\n",
    "print('Select Jupyter Notebook: .ipynb')\n",
    "py_note_files = [f for f in os.listdir(input_file_path) if f.endswith('.ipynb')]\n",
    "\n",
    "py_note_input = widgets.RadioButtons(\n",
    "    options= py_note_files,\n",
    "    description='Notebook:',\n",
    "    disabled=False\n",
    ")\n",
    "\n",
    "display(py_note_input)\n",
    "\n",
    "print('Select Mapping Fortran Script: .f90')\n",
    "map_for_files = [f for f in os.listdir(input_file_path) if f.endswith('.f90')]\n",
    "\n",
    "map_for_input = widgets.RadioButtons(\n",
    "    options= map_for_files,\n",
    "    description='Fortran:',\n",
    "    disabled=False\n",
    ")\n",
    "\n",
    "display(map_for_input)\n",
    "\n",
    "print('Select porosity data file: .h5')\n",
    "porosity_files = [f for f in os.listdir(input_file_path) if f.startswith('pflotran') and f.endswith('.h5')]\n",
    "\n",
    "porosity_file_input = widgets.RadioButtons(\n",
    "    options= porosity_files,\n",
    "    description='Porosity File:',\n",
    "    disabled=False\n",
    ")\n",
    "\n",
    "display(porosity_file_input)\n",
    "\n",
    "if 'E4D_comp.srv' in os.listdir(input_file_path):\n",
    "    E4D_comp_indi = 1\n",
    "    print('\\x1b[0;30;42m' +'Computational Survey File exists.'+'\\x1b[0m')\n",
    "    \n",
    "else:\n",
    "    E4D_comp_indi = 0\n",
    "    print('\\x1b[0;30;41m' +'Computational Survey File does not exists or not named with E4D_comp.srv'+'\\x1b[0m')"
   ]
  },
  {
   "cell_type": "code",
   "execution_count": 52,
   "metadata": {},
   "outputs": [],
   "source": [
    "if wax_smit_files_num == 0:\n",
    "\n",
    "    print('Please input the values of the petrophysical parameters:')\n",
    "    a_input = widgets.FloatText(value=1,description='a:',disabled=False)\n",
    "    B_input = widgets.FloatText(value=1e-5,description='B:',disabled=False)\n",
    "    Qv_input = widgets.FloatText(value=1e-6,description='Qv:',disabled=False)\n",
    "    c_input = widgets.FloatText(value=1.3,description='c:',disabled=False)\n",
    "    m_input = widgets.FloatText(value=2,description='m:',disabled=False)\n",
    "    t_input = widgets.FloatText(value=2e-2,description='t:',disabled=False)\n",
    "    \n",
    "    display(a_input,B_input,Qv_input,c_input,m_input,t_input)"
   ]
  },
  {
   "cell_type": "code",
   "execution_count": 53,
   "metadata": {},
   "outputs": [
    {
     "name": "stdout",
     "output_type": "stream",
     "text": [
      "The input file path:  \u001b[0;30;42m/global/u1/v/vthw28/1/\u001b[0m\n",
      "The prefix of all the E4D mesh files are the same:  \u001b[0;30;42mE4D_1\u001b[0m\n",
      "The Mesh Visulization File:  \u001b[0;30;42mE4D_1.exo\u001b[0m\n",
      "The Mesh Interpolation Matrix:  \u001b[0;30;42mE4D_1_map.bin\u001b[0m\n",
      "\u001b[0;30;42mThe element number of E4D Mesh files can match Petrophysical Parameter file.\u001b[0m\n",
      "The petrophysical parameter File is  \u001b[0;30;42mwax_smit.txt\u001b[0m\n",
      "The Baseline Conductivity File:  \u001b[0;30;42mE4D_1.sig\u001b[0m\n",
      "The Jupyter Notebook:  \u001b[0;30;42mForward_Mode.ipynb\u001b[0m\n",
      "The Mapping Fortran:  \u001b[0;30;42mmapit.f90\u001b[0m\n",
      "The Mapping Fortran:  \u001b[0;30;42mpflotran_porosity-000.h5\u001b[0m\n",
      "The computational survey file:  \u001b[0;30;42mE4D_comp.srv\u001b[0m\n"
     ]
    }
   ],
   "source": [
    "print('The input file path: ', '\\x1b[0;30;42m' +input_file_path+ '\\x1b[0m')\n",
    "\n",
    "# Check the prefix of the E4D Mesh files are same or not.\n",
    "mesh_ele_name = mesh_ele_name_input.value\n",
    "mesh_ele_name_len = len(mesh_ele_name)\n",
    "mesh_ele_name_prefix = mesh_ele_name[0:(mesh_ele_name_len-6)]\n",
    "    \n",
    "mesh_node_name = mesh_node_name_input.value\n",
    "mesh_node_name_len = len(mesh_node_name)\n",
    "mesh_node_name_prefix = mesh_node_name[0:(mesh_node_name_len-7)]\n",
    "\n",
    "mesh_face_name = mesh_face_name_input.value\n",
    "mesh_face_name_len = len(mesh_face_name)\n",
    "mesh_face_name_prefix = mesh_face_name[0:(mesh_face_name_len-7)]\n",
    "    \n",
    "mesh_trn_name = mesh_trn_name_input.value\n",
    "mesh_trn_name_len = len(mesh_trn_name)\n",
    "mesh_trn_name_prefix = mesh_ele_name[0:(mesh_trn_name_len-4)]\n",
    "\n",
    "mesh_neigh_name = mesh_neigh_name_input.value\n",
    "mesh_neigh_name_len = len(mesh_neigh_name)\n",
    "mesh_neigh_name_prefix = mesh_neigh_name[0:(mesh_neigh_name_len-8)]\n",
    "    \n",
    "if mesh_ele_name_prefix == mesh_node_name_prefix == mesh_face_name_prefix == mesh_trn_name_prefix:\n",
    "    prefix = mesh_ele_name_prefix\n",
    "    print ('The prefix of all the E4D mesh files are the same: ','\\x1b[0;30;42m' +prefix+ '\\x1b[0m')\n",
    "else:\n",
    "    print ('The prefix looks different. Please check the files or rename them.')\n",
    "\n",
    "# Read Mesh exo selection and show it.\n",
    "exo_file = mesh_exo_name_input.value\n",
    "print ('The Mesh Visulization File: ','\\x1b[0;30;42m' +exo_file+ '\\x1b[0m')\n",
    "    \n",
    "# Read PFLOTRAN_E4D Mesh Interpolation matrix selection and show it.\n",
    "mapfile = mesh_inter_input.value\n",
    "print ('The Mesh Interpolation Matrix: ','\\x1b[0;30;42m' +mapfile+ '\\x1b[0m')\n",
    "\n",
    "# Read Variable Mapping selection and show it.\n",
    "bc_sig = bc_sig_input.value\n",
    "\n",
    "if wax_smit_files_num == 0:\n",
    "    f = open(input_file_path+mesh_ele_name)\n",
    "    f_ele_lines = f.readlines()\n",
    "    lines_NO = f_ele_lines[0].split()\n",
    "    lines_num = int(lines_NO[0])\n",
    "    \n",
    "    ff = open(input_file_path+'wax_smit.txt', 'w+')\n",
    "\n",
    "    ff.write(lines_NO[0])\n",
    "    ff.write('\\n')\n",
    "    wax_sim_line = str(a_input.value)+' '+str(B_input.value)+' '+str(Qv_input.value)+' '+str(c_input.value)+' '+str(m_input.value)+' '+str(t_input.value)\n",
    "\n",
    "    for i in range(lines_num):\n",
    "        ff.write(wax_sim_line)\n",
    "        ff.write('\\n')\n",
    "\n",
    "    petro_file_name = 'wax_smit.txt'\n",
    "    \n",
    "else:\n",
    "    petro_file_name = wax_smit_input.value\n",
    "    f = open(input_file_path+mesh_ele_name)\n",
    "    f_ele_lines = f.readlines()\n",
    "    f_ele_num = int(f_ele_lines[0].split()[0])\n",
    "    ff = open(input_file_path+petro_file_name)\n",
    "    f_petro_lines = ff.readlines()\n",
    "    f_petro_num = int(f_petro_lines[0].split()[0])\n",
    "    \n",
    "    if f_ele_num == f_petro_num:\n",
    "        print('\\x1b[0;30;42m'+'The element number of E4D Mesh files can match Petrophysical Parameter file.'+ '\\x1b[0m')\n",
    "    else:\n",
    "        print('\\x1b[0;30;41m'+'The element number of E4D Mesh files can not match Petrophysical Parameter file, rewriting...'+ '\\x1b[0m')\n",
    "\n",
    "ff.close()\n",
    "f.close()\n",
    "    \n",
    "    \n",
    "print('The petrophysical parameter File is ', '\\x1b[0;30;42m'+petro_file_name+'\\x1b[0m')\n",
    "\n",
    "print ('The Baseline Conductivity File: ','\\x1b[0;30;42m' +bc_sig+ '\\x1b[0m')\n",
    "\n",
    "# Read Jupyter Notebook selection and show it.\n",
    "py_note = py_note_input.value\n",
    "print ('The Jupyter Notebook: ','\\x1b[0;30;42m' +py_note+ '\\x1b[0m')\n",
    "\n",
    "# Read Mapping Fortran selection and show it.\n",
    "map_for = map_for_input.value\n",
    "print ('The Mapping Fortran: ','\\x1b[0;30;42m' +map_for+ '\\x1b[0m')\n",
    "\n",
    "porosity_file = porosity_file_input.value\n",
    "print ('The Mapping Fortran: ','\\x1b[0;30;42m' +porosity_file+ '\\x1b[0m')\n",
    "\n",
    "if E4D_comp_indi == 1:\n",
    "    print('The computational survey file: ','\\x1b[0;30;42m'+'E4D_comp.srv'+ '\\x1b[0m')\n",
    "    \n",
    "if E4D_comp_indi == 0:\n",
    "    print('\\x1b[0;30;41m' +'Computational Survey File does not exists or not named with E4D_comp.srv'+'\\x1b[0m')"
   ]
  },
  {
   "cell_type": "code",
   "execution_count": 22,
   "metadata": {},
   "outputs": [],
   "source": [
    "f = open(input_file_path+'parameter.txt','w+')\n",
    "\n",
    "f.write('E4D_mesh_prefix '+prefix)\n",
    "f.write('\\n')\n",
    "f.write('Mesh_interpolation_matrix '+mapfile)\n",
    "f.write('\\n')\n",
    "f.write('Petrophysical_parameter_file '+petro_file_name)\n",
    "f.write('\\n')\n",
    "f.write('Baseline_cond_file '+bc_sig)\n",
    "f.write('\\n')\n",
    "f.write('Porosity_data_file '+porosity_file)\n",
    "\n",
    "f.close()"
   ]
  },
  {
   "cell_type": "code",
   "execution_count": 23,
   "metadata": {},
   "outputs": [
    {
     "data": {
      "image/png": "[encoded data removed]",
      "text/plain": [
       "<IPython.core.display.Image object>"
      ]
     },
     "execution_count": 23,
     "metadata": {
      "image/png": {
       "height": 1000,
       "width": 1000
      }
     },
     "output_type": "execute_result"
    }
   ],
   "source": [
    "from IPython.display import Image\n",
    "# from IPython.core.display import HTML \n",
    "Image(filename = '/global/cscratch1/sd/vthw28/PartE_Forward_Mode/Notebook_Picture/' + 'workflow_diagram.png', width=1000, height=1000)"
   ]
  },
  {
   "cell_type": "markdown",
   "metadata": {},
   "source": [
    "# 2. Copy Files"
   ]
  },
  {
   "cell_type": "markdown",
   "metadata": {},
   "source": [
    "## 2.1 Copy ipynb"
   ]
  },
  {
   "cell_type": "code",
   "execution_count": 43,
   "metadata": {},
   "outputs": [],
   "source": [
    "# copy .ipynb files\n",
    "\n",
    "for i in range (2):\n",
    "    real_name_prefix =  real_name_list[i]\n",
    "    data_path_real = data_path_iter+'/' +  real_name_prefix\n",
    "    \n",
    "    shutil.copy(input_file_path+py_note, data_path_real)\n",
    "    # shutil.copy(input_file_path+mesh_trn_name, data_path_real)"
   ]
  },
  {
   "cell_type": "markdown",
   "metadata": {},
   "source": [
    "## Copy *.h5 Files"
   ]
  },
  {
   "cell_type": "code",
   "execution_count": 42,
   "metadata": {},
   "outputs": [],
   "source": [
    "# Copy .h5 files\n",
    "\n",
    "#real_name_num\n",
    "\n",
    "for i in range (2):\n",
    "    real_copy_source_name = real_name_list[i]\n",
    "    real_copy_source_name = [f for f in os.listdir(real_path_source) if f.startswith(real_copy_source_name) and f.endswith('.h5')]\n",
    "    \n",
    "    real_name_prefix =  real_name_list[i]\n",
    "    data_path_real = data_path_iter+'/' +  real_name_prefix\n",
    "    \n",
    "    for j in range(len(real_copy_source_name)):\n",
    "        shutil.copy(real_path_source+'/'+real_copy_source_name[j], data_path_real)"
   ]
  },
  {
   "cell_type": "markdown",
   "metadata": {},
   "source": [
    "# 3. Write Batch Job Files"
   ]
  },
  {
   "cell_type": "markdown",
   "metadata": {},
   "source": [
    "## 3.1 ipynb Batch Job File"
   ]
  },
  {
   "cell_type": "code",
   "execution_count": 46,
   "metadata": {},
   "outputs": [],
   "source": [
    "ipynb_name = iter_folder_name + '_ipynb_run.sh'\n",
    "\n",
    "f = open(ipynb_name,'w+')\n",
    "\n",
    "f.write('#!/bin/bash \\n\\n')\n",
    "\n",
    "for i in range(real_name_num):\n",
    "    f.write('cd '+data_path_iter+'/'+real_name_list[i])\n",
    "    f.write('\\n')\n",
    "    f.write('jupyter nbconvert --execute '+py_note+' --ExecutePreprocessor.timeout=1800')\n",
    "    f.write('\\n')\n",
    "    \n",
    "f.close()"
   ]
  },
  {
   "cell_type": "markdown",
   "metadata": {},
   "source": [
    "## 3.2 E4D Batch Job Submission "
   ]
  },
  {
   "cell_type": "code",
   "execution_count": 8,
   "metadata": {},
   "outputs": [],
   "source": [
    "e4d_run_sh = iter_folder_name + '_e4d_forward.sh'\n",
    "\n",
    "f = open(e4d_run_sh,'w+')\n",
    "\n",
    "f.write('#!/bin/bash \\n')\n",
    "f.write('#SBATCH --qos=regular \\n')\n",
    "f.write('#SBATCH --time=05:00:00 \\n')\n",
    "f.write('#SBATCH --nodes=1600 \\n')\n",
    "f.write('#SBATCH --tasks-per-node=45 \\n')\n",
    "f.write('#SBATCH --constraint=knl \\n \\n')\n",
    "\n",
    "for i in range(real_name_num):\n",
    "    f.write('cd /global/cscratch1/sd/vthw28/Prior_Pflotran_Output/Prior_Pflotran_Output-R'+str(i+1))\n",
    "    f.write('\\n')\n",
    "    f.write('~/test/petsc/arch-linux-c-opt/bin/mpirun -np 353 ~/test/e4d_dev/bin/e4d ')\n",
    "    f.write(' &')\n",
    "    f.write('\\n')\n",
    "    \n",
    "f.write('wait')\n",
    "\n",
    "f.close()"
   ]
  },
  {
   "cell_type": "code",
   "execution_count": 27,
   "metadata": {},
   "outputs": [],
   "source": [
    "# jupyter nbconvert --execute Forward_Mode.ipynb --ExecutePreprocessor.timeout=1800"
   ]
  },
  {
   "cell_type": "code",
   "execution_count": null,
   "metadata": {},
   "outputs": [],
   "source": []
  }
 ],
 "metadata": {
  "kernelspec": {
   "display_name": "vthw28_env",
   "language": "python",
   "name": "vthw28_env"
  },
  "language_info": {
   "codemirror_mode": {
    "name": "ipython",
    "version": 3
   },
   "file_extension": ".py",
   "mimetype": "text/x-python",
   "name": "python",
   "nbconvert_exporter": "python",
   "pygments_lexer": "ipython3",
   "version": "3.6.9"
  }
 },
 "nbformat": 4,
 "nbformat_minor": 4
}
